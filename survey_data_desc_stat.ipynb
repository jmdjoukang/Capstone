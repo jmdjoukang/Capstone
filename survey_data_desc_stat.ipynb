{
 "cells": [
  {
   "cell_type": "markdown",
   "id": "1fb81989-797c-4f29-af59-e2b6b19da9ee",
   "metadata": {},
   "source": [
    "**Households perception on the government weather-based energy management strategies, based on the columns \"appliances_using_the_most_electricity\" and \"self_reported_peak_consumption_times\" in the survey dataset.**\n",
    "\n",
    "**Frequency Analysis**\n",
    "- Appliance Usage: Analyze the frequency of responses for each appliance listed in \"appliances_using_the_most_electricity.\" This will reveal which appliances residents perceive as consuming the most electricity.\n",
    "- Peak Consumption Times: Analyze the frequency of responses for each category in \"self_reported_peak_consumption_times.\" This will show when residents perceive their electricity usage to be highest (e.g., weekdays vs. weekends, evenings, or specific holidays)."
   ]
  },
  {
   "cell_type": "code",
   "execution_count": 26,
   "id": "da7c4f10-f0ca-465a-99b4-7206fc5a80c8",
   "metadata": {},
   "outputs": [
    {
     "name": "stdout",
     "output_type": "stream",
     "text": [
      "Frequency of Appliances Reported as Using the Most Electricity:\n",
      "appliances_using_the_most_electricity\n",
      "Refrigerator, Dryer, Dishwasher                                                       32\n",
      "Washing machine, Dryer                                                                30\n",
      "Dishwasher                                                                            14\n",
      "Washing machine, Dryer, Dishwasher                                                    12\n",
      "Refrigerator                                                                          10\n",
      "Refrigerator, Washing machine, Dryer                                                   7\n",
      "Dryer                                                                                  7\n",
      "Refrigerator, Washing machine, Lighting                                                7\n",
      "Refrigerator, Washing machine, Dishwasher                                              5\n",
      "Refrigerator, Dryer                                                                    5\n",
      "Refrigerator, Washing machine                                                          4\n",
      "Refrigerator, Washing machine, Dryer, Dishwasher, Television, Computer, Lighting       4\n",
      "Dryer, Dishwasher, Television                                                          3\n",
      "Refrigerator, Washing machine, Dishwasher, Television                                  3\n",
      "Refrigerator, Television, Lighting                                                     3\n",
      "Dryer, Dishwasher                                                                      3\n",
      "Refrigerator, Washing machine, Dryer, Dishwasher                                       3\n",
      "Washing machine, Dishwasher, Lighting                                                  2\n",
      "Refrigerator, Washing machine, Television                                              2\n",
      "Washing machine, Dishwasher, Television, Computer                                      2\n",
      "Refrigerator, Washing machine, Computer                                                2\n",
      "Washing machine, Dryer, Computer                                                       2\n",
      "Refrigerator, Television, Computer, Lighting                                           2\n",
      "Refrigerator, Dishwasher, Lighting                                                     2\n",
      "Refrigerator, Washing machine, Dryer, Lighting                                         2\n",
      "Washing machine                                                                        2\n",
      "Refrigerator, Washing machine, Dryer, Dishwasher, Lighting                             1\n",
      "Refrigerator, Dishwasher                                                               1\n",
      "Washing machine, Television, Lighting                                                  1\n",
      "Refrigerator, Dryer, Computer                                                          1\n",
      "Refrigerator, Washing machine, Dryer, Dishwasher, Television, Computer                 1\n",
      "Washing machine, Dishwasher, Computer                                                  1\n",
      "Dryer, Computer, Lighting                                                              1\n",
      "Dishwasher, Television                                                                 1\n",
      "Refrigerator, Dryer, Television                                                        1\n",
      "Refrigerator, Washing machine, Television, Computer                                    1\n",
      "Washing machine, Dryer, Dishwasher, Television                                         1\n",
      "Washing machine, Dryer, Kettle                                                         1\n",
      "Dryer, Computer                                                                        1\n",
      "Washing machine, Lighting, Shower                                                      1\n",
      "Washing machine, Lighting, Shower                                                      1\n",
      "Washing machine, Dryer, Lighting                                                       1\n",
      "Washing machine, Computer, Lighting                                                    1\n",
      "Dishwasher, Computer, Lighting                                                         1\n",
      "Refrigerator, Washing machine, Dryer, Dishwasher, Television, Lighting                 1\n",
      "Dryer, Dishwasher, Lighting                                                            1\n",
      "Dishwasher, Television, Computer                                                       1\n",
      "Refrigerator, Dryer, Dishwasher, Television                                            1\n",
      "Refrigerator, Washing machine, heating                                                 1\n",
      "Refrigerator, Washing machine, Dryer, Dishwasher, Television, Computer, Lighting,      1\n",
      "Television                                                                             1\n",
      "Dryer, Dishwasher, Television, kettle                                                  1\n",
      "Television, Computer                                                                   1\n",
      "Name: count, dtype: int64\n",
      "\n",
      "Frequency of Self-Reported Peak Consumption Times:\n",
      "self_reported_peak_consumption_times\n",
      "Sathurday     81\n",
      "weekend       55\n",
      "holidays      27\n",
      "Evening       13\n",
      "Sathurday      5\n",
      "Everyday       2\n",
      "Sunday         2\n",
      "Evening        1\n",
      "Morning        1\n",
      "Evening        1\n",
      "weekend        1\n",
      "Friday         1\n",
      "Negative       1\n",
      "Sundays        1\n",
      "holidays       1\n",
      "Sunday         1\n",
      "Every day      1\n",
      "evening        1\n",
      "Monday         1\n",
      "Name: count, dtype: int64\n"
     ]
    }
   ],
   "source": [
    "import pandas as pd\n",
    "\n",
    "# Read your data\n",
    "survey_data = pd.read_csv(\"survey_data.csv\")\n",
    "\n",
    "# Appliance Usage Frequency\n",
    "appliance_usage_counts = survey_data[\"appliances_using_the_most_electricity\"].value_counts()\n",
    "print(\"Frequency of Appliances Reported as Using the Most Electricity:\")\n",
    "print(appliance_usage_counts)\n",
    "\n",
    "# Peak Consumption Time Frequency\n",
    "peak_consumption_counts = survey_data[\"self_reported_peak_consumption_times\"].value_counts()\n",
    "print(\"\\nFrequency of Self-Reported Peak Consumption Times:\")\n",
    "print(peak_consumption_counts)"
   ]
  },
  {
   "cell_type": "markdown",
   "id": "419c9e44-6a41-4e8d-bcf8-1cb245ac7ace",
   "metadata": {},
   "source": [
    "**Sentiment Analysis (TextBlob)**"
   ]
  },
  {
   "cell_type": "code",
   "execution_count": 27,
   "id": "b297e179-a824-4cd9-971f-5f6e65ffb063",
   "metadata": {},
   "outputs": [
    {
     "name": "stdout",
     "output_type": "stream",
     "text": [
      "Distribution of Sentiment Scores in 'provider_info_rating' (TextBlob):\n",
      "sentiment_score\n",
      " 0.00    86\n",
      "-0.52    59\n",
      "-0.40    30\n",
      " 0.20    22\n",
      "Name: count, dtype: int64\n",
      "\n",
      "Sentiment by Category:\n",
      "sentiment_score\n",
      "Very well      108\n",
      "Very poorly     89\n",
      "Neutral          0\n",
      "Name: count, dtype: int64\n"
     ]
    }
   ],
   "source": [
    "from textblob import TextBlob\n",
    "\n",
    "# Provider_info_rating\n",
    "survey_data[\"sentiment_score\"] = survey_data[\"provider_info_rating\"].apply(\n",
    "    lambda text: TextBlob(text).sentiment.polarity\n",
    ")\n",
    "\n",
    "# Sentiment distribution\n",
    "sentiment_counts = survey_data[\"sentiment_score\"].value_counts()\n",
    "print(\"Distribution of Sentiment Scores in 'provider_info_rating' (TextBlob):\")\n",
    "print(sentiment_counts)\n",
    "\n",
    "# Sentiment by category\n",
    "sentiment_categories = pd.cut(\n",
    "    survey_data[\"sentiment_score\"], bins=[-1, -0.25, 0.25, 1], labels=[\"Very poorly\", \"Very well\", \"Neutral\"]\n",
    ")\n",
    "sentiment_by_category = sentiment_categories.value_counts()\n",
    "print(\"\\nSentiment by Category:\")\n",
    "print(sentiment_by_category)"
   ]
  },
  {
   "cell_type": "markdown",
   "id": "d65b731d-e598-4da3-b5fc-95a53f4cde98",
   "metadata": {},
   "source": [
    "Overall Sentiment:\n",
    "\n",
    "Neutral: The majority of responses (145 out of 247) fall into the \"Neutral\" category, indicating that participants neither strongly agree nor disagree with the way their provider informs them about government weather-based energy management strategies.\n",
    "Distribution of Scores:\n",
    "\n",
    "Center of Mass: The sentiment scores are mostly concentrated around 0, further supporting the neutral sentiment.\n",
    "Slight Negative Skew: There's a slightly higher frequency of negative scores (-0.40 and -0.52) compared to positive scores (0.20), suggesting a potential lean towards dissatisfaction with the information provided.\n",
    "Missing \"Satisfied\" Category:\n",
    "\n",
    "It's interesting to note that the sentiment categories show no responses in the \"Satisfied\" category. This could be due to several reasons:\n",
    "The phrasing of the question in \"provider_info_rating\" might not have prompted responses expressing satisfaction.\n",
    "The sample of participants might have a bias towards those who are not fully satisfied with the information provided."
   ]
  },
  {
   "cell_type": "markdown",
   "id": "70a992bd-032a-45ac-ab96-7b769e82b6e0",
   "metadata": {},
   "source": [
    "**Frequency Analysis**\n",
    "\n",
    "Analyze the frequency of responses on a scale (e.g., \"Highly Aware\", \"Somewhat Aware\", \"Neutral\", \"Less Aware\", \"Not Aware At All\"). This will show the general distribution of self-reported awareness levels."
   ]
  },
  {
   "cell_type": "code",
   "execution_count": 28,
   "id": "014e196d-c03b-44b6-bd8f-483ae6d916d1",
   "metadata": {},
   "outputs": [
    {
     "name": "stdout",
     "output_type": "stream",
     "text": [
      "Frequency of Responses for Awareness about Energy Policies:\n",
      "awareness_about_energy_policies\n",
      "Somewhat uninformed    91\n",
      "Somewhat informed      78\n",
      "Very informed          18\n",
      "Very uninformed        10\n",
      "Name: count, dtype: int64\n"
     ]
    }
   ],
   "source": [
    "# Column \"awareness_about_energy_policies\"\n",
    "\n",
    "# Get frequency counts for awareness level\n",
    "awareness_counts = survey_data[\"awareness_about_energy_policies\"].value_counts()\n",
    "print(\"Frequency of Responses for Awareness about Energy Policies:\")\n",
    "print(awareness_counts)"
   ]
  },
  {
   "cell_type": "markdown",
   "id": "b31b0502-3efc-46d2-b488-d40ae7a1e53b",
   "metadata": {},
   "source": [
    "\n",
    "\n",
    "**Descriptive Statistics**\n",
    "\n",
    "If your awareness level is represented numerically (e.g., 1 = Not Aware, 5 = Highly Aware), you can calculate descriptive statistics like mean, median, and standard deviation to summarize the central tendency and spread of responses."
   ]
  },
  {
   "cell_type": "code",
   "execution_count": 29,
   "id": "7e210aec-673b-4071-b858-b503900b78ba",
   "metadata": {},
   "outputs": [
    {
     "name": "stdout",
     "output_type": "stream",
     "text": [
      "Descriptive Statistics of Awareness Level:\n",
      "count                     197\n",
      "unique                      4\n",
      "top       Somewhat uninformed\n",
      "freq                       91\n",
      "Name: awareness_about_energy_policies, dtype: object\n"
     ]
    }
   ],
   "source": [
    "awareness_stats = survey_data[\"awareness_about_energy_policies\"].describe()\n",
    "print(\"Descriptive Statistics of Awareness Level:\")\n",
    "print(awareness_stats)"
   ]
  },
  {
   "cell_type": "markdown",
   "id": "3cc24e6e-1023-4105-adb8-488229f2aeff",
   "metadata": {},
   "source": [
    "**Relationship with Informedness**\n",
    "\n",
    "You might be interested in exploring the relationship between awareness of energy policies (from \"awareness_about_energy_policies\") and self-reported informedness about weather-based strategies (assuming you have a column for that, e.g., \"provider_info_rating\"). Create a cross-tabulation to see if there's a correlation."
   ]
  },
  {
   "cell_type": "code",
   "execution_count": 30,
   "id": "33fb12db-c02e-4146-888e-4d227ca6c4f0",
   "metadata": {},
   "outputs": [
    {
     "name": "stdout",
     "output_type": "stream",
     "text": [
      "Awareness of Energy Policies by Informed Level:\n",
      "provider_info_rating             Neutral  Somewhat poorly  Somewhat well  Very poorly  Very well  well\n",
      "awareness_about_energy_policies                                                                       \n",
      "Somewhat informed                     26               15              1           23         13     0\n",
      "Somewhat uninformed                   33                8              9           28          9     4\n",
      "Very informed                          9                5              0            4          0     0\n",
      "Very uninformed                        3                2              1            4          0     0\n"
     ]
    }
   ],
   "source": [
    "awareness_by_informedness = pd.crosstab(\n",
    "    survey_data[\"awareness_about_energy_policies\"], survey_data[\"provider_info_rating\"]\n",
    ")\n",
    "print(\"Awareness of Energy Policies by Informed Level:\")\n",
    "print(awareness_by_informedness.to_string())"
   ]
  },
  {
   "cell_type": "markdown",
   "id": "f1aad4cf-2985-4c5a-9ba7-26c4495bcc9f",
   "metadata": {},
   "source": [
    "**Income Analysis**\n",
    "\n",
    "Analyze the frequency of responses in each income category using value_counts() to see the spread of income levels in dataset."
   ]
  },
  {
   "cell_type": "code",
   "execution_count": 31,
   "id": "d590c329-086d-411d-8252-8026f4174b5f",
   "metadata": {},
   "outputs": [
    {
     "name": "stdout",
     "output_type": "stream",
     "text": [
      "Distribution of Income:\n",
      "income\n",
      "0k-20k      53\n",
      "40k-60k     52\n",
      "20k-40k     40\n",
      "60k-80k     40\n",
      "80k-150k    12\n",
      "Name: count, dtype: int64\n"
     ]
    }
   ],
   "source": [
    "income_counts = survey_data[\"income\"].value_counts()\n",
    "print(\"Distribution of Income:\")\n",
    "print(income_counts)"
   ]
  },
  {
   "cell_type": "markdown",
   "id": "f0297391-e063-4299-9d10-b2b864325f80",
   "metadata": {},
   "source": [
    "**Weather Conditions**\n",
    "\n",
    "Analyze the frequency of each weather condition listed in \"weather_conditions_most_affecting\" using value_counts(). This will show which weather conditions are most commonly reported as impacting energy use."
   ]
  },
  {
   "cell_type": "code",
   "execution_count": 32,
   "id": "afdd4916-59aa-4a32-aefc-2d9dfbf4ac16",
   "metadata": {},
   "outputs": [
    {
     "name": "stdout",
     "output_type": "stream",
     "text": [
      "Frequency of Weather Conditions Affecting Energy Use:\n",
      "weather_conditions_most_affecting\n",
      "Humidity                           54\n",
      "Wind, Humidity                     43\n",
      "Precipitation                      38\n",
      "Wind                               13\n",
      "Precipitation, Wind, Humidity      13\n",
      "Precipitation, Humidity            10\n",
      "Humidity, Wind                      9\n",
      "Humidity, Humidity                  8\n",
      "Precipitation, Wind                 8\n",
      "Precipitation, Wind, Humidity,      1\n",
      "Name: count, dtype: int64\n"
     ]
    }
   ],
   "source": [
    "weather_counts = survey_data[\"weather_conditions_most_affecting\"].value_counts()\n",
    "print(\"Frequency of Weather Conditions Affecting Energy Use:\")\n",
    "print(weather_counts)"
   ]
  },
  {
   "cell_type": "markdown",
   "id": "2b06fd52-6abf-4507-8f19-ccd39697292d",
   "metadata": {},
   "source": [
    "**Descriptive Statistics by Income**\n",
    "\n",
    "Calculate summary statistics (mean, median, standard deviation) for numerical columns like income or age across different income categories. This can reveal patterns in how these values are distributed.\n"
   ]
  },
  {
   "cell_type": "code",
   "execution_count": 33,
   "id": "32879b40-38f4-4da8-82cc-18c9316e3ab5",
   "metadata": {},
   "outputs": [
    {
     "name": "stdout",
     "output_type": "stream",
     "text": [
      "         household_size                                                      \\\n",
      "                  count unique top freq      mean       std  min   25%  50%   \n",
      "income                                                                        \n",
      "0k-20k             53.0    NaN NaN  NaN  3.018868  1.550317  1.0  2.00  3.0   \n",
      "20k-40k            40.0    NaN NaN  NaN  3.275000  1.432006  1.0  2.75  3.0   \n",
      "40k-60k            52.0    NaN NaN  NaN  3.038462  1.028258  1.0  3.00  3.0   \n",
      "60k-80k            40.0    NaN NaN  NaN  3.125000  0.938835  1.0  3.00  3.0   \n",
      "80k-150k           12.0    NaN NaN  NaN  3.416667  1.564279  1.0  2.75  3.0   \n",
      "\n",
      "                ... sentiment_score                                           \\\n",
      "           75%  ...          unique top freq      mean       std   min   25%   \n",
      "income          ...                                                            \n",
      "0k-20k    4.00  ...             NaN NaN  NaN -0.202264  0.263049 -0.52 -0.52   \n",
      "20k-40k   4.25  ...             NaN NaN  NaN -0.267000  0.270140 -0.52 -0.52   \n",
      "40k-60k   3.00  ...             NaN NaN  NaN -0.053846  0.262463 -0.52  0.00   \n",
      "60k-80k   3.00  ...             NaN NaN  NaN -0.247000  0.230565 -0.52 -0.40   \n",
      "80k-150k  5.00  ...             NaN NaN  NaN -0.350000  0.217841 -0.52 -0.52   \n",
      "\n",
      "                         \n",
      "          50%  75%  max  \n",
      "income                   \n",
      "0k-20k    0.0  0.0  0.2  \n",
      "20k-40k  -0.4  0.0  0.2  \n",
      "40k-60k   0.0  0.2  0.2  \n",
      "60k-80k  -0.4  0.0  0.0  \n",
      "80k-150k -0.4 -0.3  0.0  \n",
      "\n",
      "[5 rows x 198 columns]\n"
     ]
    }
   ],
   "source": [
    "income_groups = survey_data.groupby(\"income\")\n",
    "income_stats = income_groups.describe(include=\"all\")  # Include all data types\n",
    "print(income_stats)"
   ]
  },
  {
   "cell_type": "markdown",
   "id": "a8d7d638-b111-45f1-9c6c-133166719a39",
   "metadata": {},
   "source": [
    "**Analyzing Categorical Columns**\n",
    "\n",
    "Create frequency tables to see how many people fall into each category of categorical columns (e.g., \"awareness_about_energy_policies\" with categories like \"High\", \"Medium\", \"Low\")."
   ]
  },
  {
   "cell_type": "code",
   "execution_count": 34,
   "id": "0b9330f7-9eb0-422a-9a8b-9201c0178966",
   "metadata": {},
   "outputs": [
    {
     "name": "stdout",
     "output_type": "stream",
     "text": [
      "awareness_about_energy_policies\n",
      "Somewhat uninformed    91\n",
      "Somewhat informed      78\n",
      "Very informed          18\n",
      "Very uninformed        10\n",
      "Name: count, dtype: int64\n"
     ]
    }
   ],
   "source": [
    "awareness_counts = survey_data[\"awareness_about_energy_policies\"].value_counts()\n",
    "print(awareness_counts)"
   ]
  },
  {
   "cell_type": "code",
   "execution_count": 35,
   "id": "0c645e74-d514-480d-a7b8-d3bc92e3993d",
   "metadata": {},
   "outputs": [
    {
     "name": "stdout",
     "output_type": "stream",
     "text": [
      "                household_size\n",
      "household_size             1.0\n"
     ]
    }
   ],
   "source": [
    "import pandas as pd\n",
    "import numpy as np  # Import numpy for numerical operations\n",
    "\n",
    "# Load\n",
    "survey_data = pd.read_csv(\"survey_data.csv\")\n",
    "\n",
    "# Select only numerical columns\n",
    "numeric_data = survey_data.select_dtypes(include=[np.number])\n",
    "\n",
    "# Calculate correlations\n",
    "correlations = numeric_data.corr()\n",
    "print(correlations)"
   ]
  },
  {
   "cell_type": "markdown",
   "id": "ade7b0ce-b753-4ff3-8b21-771ed5315e09",
   "metadata": {},
   "source": [
    "**Crosstabulation with Categorical Columns**\n",
    "\n",
    "crosstabulations to analyze how household size is distributed across different categories. This can provide insights into how awareness levels or other categorical factors might vary with household size."
   ]
  },
  {
   "cell_type": "code",
   "execution_count": 36,
   "id": "c45f70b2-a552-4c47-86c6-205e8440d585",
   "metadata": {},
   "outputs": [
    {
     "name": "stdout",
     "output_type": "stream",
     "text": [
      "awareness_about_energy_policies  Somewhat informed  Somewhat uninformed  Very informed  Very uninformed\n",
      "household_size                                                                                         \n",
      "1                                                6                   10              4                2\n",
      "2                                               13                   11              0                3\n",
      "3                                               47                   43              7                3\n",
      "4                                                3                    7              2                0\n",
      "5                                                6                   14              5                0\n",
      "6                                                3                    6              0                2\n"
     ]
    }
   ],
   "source": [
    "household_size_by_awareness = pd.crosstab(\n",
    "    survey_data[\"household_size\"], survey_data[\"awareness_about_energy_policies\"]\n",
    ")\n",
    "print(household_size_by_awareness.to_string())"
   ]
  },
  {
   "cell_type": "markdown",
   "id": "f2cb05fe-0331-4578-b481-37c4a5e8cebb",
   "metadata": {},
   "source": [
    "**Grouped Descriptive Statistics**\n",
    "\n",
    "group the data by \"household_size\" and calculate descriptive statistics (mean, median, standard deviation) for other numerical columns within each household size category. This can reveal patterns in variables like income or age across different household sizes."
   ]
  },
  {
   "cell_type": "code",
   "execution_count": 37,
   "id": "9413b109-1086-43c0-8104-e8555b16c737",
   "metadata": {},
   "outputs": [
    {
     "name": "stdout",
     "output_type": "stream",
     "text": [
      "               dwelling_type                            attitude         \\\n",
      "                       count unique            top freq    count unique   \n",
      "household_size                                                            \n",
      "1                         22      3      Apartment   11       22      5   \n",
      "2                         27      3  Semi_detached   10       27      5   \n",
      "3                        100      3       Detached   42      100      5   \n",
      "4                         12      3      Apartment    5       12      3   \n",
      "5                         25      4  Semi_detached   10       25      5   \n",
      "6                         11      3       Detached    5       11      5   \n",
      "\n",
      "                                                         \\\n",
      "                                               top freq   \n",
      "household_size                                            \n",
      "1                               Somewhat satisfied    6   \n",
      "2               Neither satisfied nor dissatisfied   11   \n",
      "3                               Somewhat satisfied   33   \n",
      "4               Neither satisfied nor dissatisfied    6   \n",
      "5               Neither satisfied nor dissatisfied    8   \n",
      "6                               Somewhat satisfied    4   \n",
      "\n",
      "               weather_effects_on_electricity_consumption         ...  \\\n",
      "                                                    count unique  ...   \n",
      "household_size                                                    ...   \n",
      "1                                                      22      4  ...   \n",
      "2                                                      27      5  ...   \n",
      "3                                                     100      5  ...   \n",
      "4                                                      12      3  ...   \n",
      "5                                                      25      5  ...   \n",
      "6                                                      11      4  ...   \n",
      "\n",
      "               occupation      income                      comments         \\\n",
      "                      top freq  count unique      top freq    count unique   \n",
      "household_size                                                               \n",
      "1                employed   17     22      5   0k-20k   11       22      7   \n",
      "2                employed   24     27      5   0k-20k    9       27      5   \n",
      "3                employed   89    100      5  40k-60k   35      100      8   \n",
      "4                employed   10     12      4   0k-20k    7       12      5   \n",
      "5                employed   21     25      5  20k-40k    7       25      5   \n",
      "6                employed    8     11      4   0k-20k    5       11      3   \n",
      "\n",
      "                              \n",
      "                    top freq  \n",
      "household_size                \n",
      "1               Finance   13  \n",
      "2               Finance   13  \n",
      "3               Finance   34  \n",
      "4               Finance    6  \n",
      "5               Finance   14  \n",
      "6               Finance    6  \n",
      "\n",
      "[6 rows x 68 columns]\n"
     ]
    }
   ],
   "source": [
    "household_size_groups = survey_data.groupby(\"household_size\")\n",
    "descriptive_stats = household_size_groups.describe(include=\"all\")\n",
    "print(descriptive_stats)"
   ]
  },
  {
   "cell_type": "code",
   "execution_count": 38,
   "id": "40653e04-c7c9-48ac-8e80-dbc1de4096cd",
   "metadata": {},
   "outputs": [
    {
     "name": "stdout",
     "output_type": "stream",
     "text": [
      "['household_size', 'dwelling_type', 'attitude', 'weather_effects_on_electricity_consumption', 'weather_conditions_most_affecting', 'awareness_about_energy_policies', 'weather-based_energy_management_strategies_adoption', 'challenges', 'monitoring', 'checking_consumption', 'appliances_using_the_most_electricity', 'self_reported_peak_consumption_times', 'provider_info_rating', 'age', 'education', 'occupation', 'income', 'comments']\n"
     ]
    }
   ],
   "source": [
    "print(survey_data.columns.tolist())"
   ]
  },
  {
   "cell_type": "markdown",
   "id": "019b8718-6e1f-485f-886f-5cae9101df82",
   "metadata": {},
   "source": [
    "**Perception and Evaluation Frequencies (Quantitative)**\n",
    "\n",
    "How do Galway Households perceive and evaluate weather-based energy management?\n",
    "You can analyze survey questions related to perceptions and evaluations. Look for patterns in responses to gauge general attitudes. Consider both quantitative analysis (e.g., frequency tables) and qualitative analysis (e.g., thematic analysis of open-ended responses) for a more comprehensive understanding."
   ]
  },
  {
   "cell_type": "code",
   "execution_count": 39,
   "id": "fe8dd99f-eafc-4077-b33c-16f1b6cf10a8",
   "metadata": {},
   "outputs": [
    {
     "name": "stdout",
     "output_type": "stream",
     "text": [
      "Perception and Evaluation Frequencies:\n",
      "attitude                                    Neither satisfied nor dissatisfied  Somewhat dissatisfied  Somewhat satisfied  Very dissatisfied  Very satisfied\n",
      "weather_effects_on_electricity_consumption                                                                                                                  \n",
      "Neutral                                                                     16                      4                  11                  3               1\n",
      "Somewhat agree                                                              22                     12                  13                  4               5\n",
      "Somewhat disagree                                                           14                     18                  18                  1               1\n",
      "Strongly agree                                                               8                      9                  11                  2              11\n",
      "Strongly disagree                                                            2                      4                   5                  1               1\n"
     ]
    }
   ],
   "source": [
    "# Assuming \"survey_data.csv\" is in the same working directory\n",
    "survey_data = pd.read_csv(\"survey_data.csv\")\n",
    "\n",
    "# Column weather_effects_on_electricity_consumption\n",
    "perception_cols = [\n",
    "    \"weather_effects_on_electricity_consumption\",\n",
    "    \"attitude\"  # Here \"attitude\" reflects evaluation of strategies\n",
    "]\n",
    "\n",
    "# Calculate frequencies for perception/evaluation categories\n",
    "perception_evals = survey_data[perception_cols].value_counts(dropna=False).unstack()\n",
    "print(\"Perception and Evaluation Frequencies:\")\n",
    "print(perception_evals.to_string())"
   ]
  },
  {
   "cell_type": "markdown",
   "id": "785ef461-15b8-4e26-963e-17e50245ac02",
   "metadata": {},
   "source": [
    "**Descriptive Statistics by Household Size**\n",
    "\n",
    "What factors contribute to the attitude toward adopting such strategies?\n",
    "Analyze columns related to potential influencing factors, such as environmental awareness, cost concerns, or perceived benefits. You can use correlations and descriptive statistics to identify relationships, but you might also need qualitative analysis to explore the \"why\" behind these relationships. Additionally, consider socio-economic factors (if available) that might influence adoption decisions."
   ]
  },
  {
   "cell_type": "code",
   "execution_count": 40,
   "id": "5174c704-d948-4739-bc50-a28c969ca802",
   "metadata": {},
   "outputs": [
    {
     "name": "stdout",
     "output_type": "stream",
     "text": [
      "\n",
      "Descriptive Statistics by Household Size:\n",
      "               awareness_about_energy_policies                              \\\n",
      "                                         count unique                  top   \n",
      "household_size                                                               \n",
      "1                                           22      4  Somewhat uninformed   \n",
      "2                                           27      3    Somewhat informed   \n",
      "3                                          100      4    Somewhat informed   \n",
      "4                                           12      3  Somewhat uninformed   \n",
      "5                                           25      3  Somewhat uninformed   \n",
      "6                                           11      3  Somewhat uninformed   \n",
      "\n",
      "                    income                      education         \\\n",
      "               freq  count unique      top freq     count unique   \n",
      "household_size                                                     \n",
      "1                10     22      5   0k-20k   11        22      4   \n",
      "2                13     27      5   0k-20k    9        27      4   \n",
      "3                47    100      5  40k-60k   35       100      5   \n",
      "4                 7     12      4   0k-20k    7        12      4   \n",
      "5                14     25      5  20k-40k    7        25      5   \n",
      "6                 6     11      4   0k-20k    5        11      5   \n",
      "\n",
      "                                                \n",
      "                                      top freq  \n",
      "household_size                                  \n",
      "1                       Bachelor's degree    9  \n",
      "2                            Some college   12  \n",
      "3                       Bachelor's degree   36  \n",
      "4                            Some college    6  \n",
      "5               Master's degree or higher   10  \n",
      "6                            Some college    4  \n"
     ]
    }
   ],
   "source": [
    "# Influencing factors\n",
    "adoption_factors = [\n",
    "    \"awareness_about_energy_policies\",\n",
    "    \"income\",\n",
    "    \"education\",  \n",
    "]\n",
    "\n",
    "# Group by household size and calculate descriptive statistics for factors\n",
    "household_size_groups = survey_data.groupby(\"household_size\")\n",
    "descriptive_stats = household_size_groups[adoption_factors].describe(include=\"all\")\n",
    "print(\"\\nDescriptive Statistics by Household Size:\")\n",
    "print(descriptive_stats)"
   ]
  },
  {
   "cell_type": "markdown",
   "id": "621de54a-a999-4dc8-bbe7-1c99cb4ed464",
   "metadata": {},
   "source": [
    "**Qualitative Analysis** <Comments>\n",
    "\n",
    "This is a goldmine for qualitative analysis.Explore themes related to perceptions, evaluations, and adoption factors by analyzing these open-ended responses. \n",
    "Use libraries like TextBlob or spaCy to perform sentiment analysis and topic modeling (identifying common topics discussed).\n"
   ]
  },
  {
   "cell_type": "code",
   "execution_count": 41,
   "id": "463c87fb-abb2-4f69-a2a5-ce6f20de47e6",
   "metadata": {},
   "outputs": [
    {
     "name": "stdout",
     "output_type": "stream",
     "text": [
      "Comment: Weather definitely impacts my bills. I use more electricity in the summer for AC.\n",
      "Sentiment: Sentiment(polarity=0.25, subjectivity=0.5)\n",
      "Comment: Strategies seem expensive to implement initially.\n",
      "Sentiment: Sentiment(polarity=-0.25, subjectivity=0.35)\n",
      "Comment: I'm a renter, so installing new systems might not be feasible.\n",
      "Sentiment: Sentiment(polarity=0.13636363636363635, subjectivity=0.45454545454545453)\n"
     ]
    }
   ],
   "source": [
    "from textblob import TextBlob\n",
    "\n",
    "# comments \n",
    "comments = [\n",
    "    \"Weather definitely impacts my bills. I use more electricity in the summer for AC.\",\n",
    "    \"Strategies seem expensive to implement initially.\",\n",
    "    \"I'm a renter, so installing new systems might not be feasible.\",\n",
    "]\n",
    "\n",
    "# Sentiment analysis \n",
    "for comment in comments:\n",
    "    blob = TextBlob(comment)\n",
    "    print(f\"Comment: {comment}\\nSentiment: {blob.sentiment}\")"
   ]
  },
  {
   "cell_type": "markdown",
   "id": "4c6511dc-bb15-4c1c-8a48-f4bfa433d55a",
   "metadata": {},
   "source": [
    "**Frequency table for challenges**\n",
    "\n",
    "Quantitative overview of the challenges faced by respondents when considering weather-based energy management strategies. "
   ]
  },
  {
   "cell_type": "code",
   "execution_count": 42,
   "id": "69d27703-81d4-41bb-8ef1-0ea9e31f41e4",
   "metadata": {},
   "outputs": [
    {
     "name": "stdout",
     "output_type": "stream",
     "text": [
      "\n",
      "Challenges Faced by Respondents:\n",
      "challenges\n",
      "Finance                 57\n",
      "Finance                 34\n",
      "Renting                 27\n",
      "Politics                23\n",
      "Oldest house            18\n",
      "Cost                    16\n",
      "Information              8\n",
      "Awareness                7\n",
      "Lack of information      6\n",
      "Information              1\n"
     ]
    }
   ],
   "source": [
    "# Load\n",
    "survey_data = pd.read_csv(\"survey_data.csv\")\n",
    "\n",
    "# Create a frequency table for challenges\n",
    "challenge_counts = survey_data[\"challenges\"].value_counts(dropna=False)\n",
    "print(\"\\nChallenges Faced by Respondents:\")\n",
    "print(challenge_counts.to_string())"
   ]
  },
  {
   "cell_type": "markdown",
   "id": "3bfbac25-9a73-48b0-8153-3dc09a4b0710",
   "metadata": {},
   "source": [
    "***RESULTS**\n",
    "\n",
    "1. Perception and Evaluation Frequencies:\n",
    "\n",
    "This code will provide a table showing the number of respondents who fall into each combination of perception and evaluation categories. For example, it might show how many people believe weather impacts their bills and are \"somewhat satisfied\" with existing strategies.\n",
    "\n",
    "2. Descriptive Statistics by Household Size:\n",
    "\n",
    "This code will output a table summarizing statistics (mean, median, standard deviation) for potential influencing factors (e.g., awareness, income) within each household size group.\n",
    "\n",
    "3. Challenges (Optional):\n",
    "\n",
    "This code will give you a table showing the frequency of each challenge mentioned by respondents (e.g., financial limitations, lack of knowledge).\n",
    "\n",
    "4. Qualitative Analysis (Manual Review, TextBlob - Optional):\n",
    "\n",
    "This might involve notes or summaries of recurring themes you identified in the comments related to perceptions, evaluations, and adoption factors. TextBlob's sentiment analysis might provide additional insights (positive, negative, neutral sentiment) about these comments.\n",
    "\n",
    "Model Suggestions:\n",
    "\n",
    "Based on the potential outputs from these analyses, here are 3 different models you could consider for further analysis:\n",
    "\n",
    "1. Logistic Regression:\n",
    "\n",
    "Suitable for: This model is good for predicting a binary outcome (e.g., adoption of strategies - yes/no) based on a set of independent variables (e.g., income, awareness, perception of weather impacts).\n",
    "Data Requirements: You'll need numerical data for independent variables (e.g., convert income to numerical values if necessary) and a binary dependent variable (e.g., create a new variable indicating adoption - yes/no).\n",
    "Insights: Logistic regression can help you identify which factors have the most significant influence on the likelihood of adopting weather-based energy management strategies.\n",
    "2. Decision Tree:\n",
    "\n",
    "Suitable for: This model is useful for exploring relationships between independent variables and a dependent variable (adoption or another outcome) in a tree-like structure. It can handle both numerical and categorical variables.\n",
    "Data Requirements: Similar to logistic regression, you'll need numerical or categorical data for independent variables and a dependent variable representing the outcome you're interested in.\n",
    "Insights: Decision trees can reveal how different factors interact and influence the decision to adopt strategies. It can be easier to interpret than logistic regression for understanding the decision-making process.\n",
    "3. K-Means Clustering (Optional, if data allows):\n",
    "\n",
    "Suitable for: This model is good for grouping data points into distinct clusters based on their similarities. It can be used to segment your survey respondents into groups with similar characteristics related to perceptions, attitudes, or challenges.\n",
    "Data Requirements: K-means clustering works best with numerical data. You might need to create new features combining existing variables (e.g., combining income and awareness into a \"socioeconomic awareness\" score).\n",
    "Insights: K-means clustering can help you identify distinct segments of respondents with different perceptions, challenges, and potentially, different adoption patterns. This can be useful for targeted outreach or communication strategies.\n",
    "Choosing the Right Model:\n",
    "\n",
    "The most suitable model depends on the specific research questions you want to answer and the nature of your data. Here are some additional considerations:\n",
    "\n",
    "Logistic regression is a good choice if you want to predict adoption based on a set of factors.\n",
    "Decision trees are helpful for understanding the interplay of factors influencing adoption choices.\n",
    "K-means clustering can be used to identify distinct respondent segments with varying perspectives or challenges.\n",
    "By analyzing the outputs from your initial code snippets and considering these model suggestions, you can make an informed decision about the best approach to further explore the data and answer your research questions about how Galway households perceive, evaluate, and are influenced by factors related to weather-based energy management strategies."
   ]
  },
  {
   "cell_type": "markdown",
   "id": "52bae1da-c2f6-4967-91e6-1da5bc35b817",
   "metadata": {},
   "source": [
    "**DISCUSSION**\n",
    "\n",
    "Analysis of Survey Results: Weather-Based Energy Management in Galway Households\n",
    "Introduction:\n",
    "\n",
    "This analysis explores how Galway households perceive and evaluate weather-based energy management strategies, along with factors influencing their adoption. We'll discuss the findings from the code snippets you provided, considering your research questions:\n",
    "\n",
    "How do Galway Households perceive and evaluate weather-based energy management?\n",
    "What factors contribute to the attitude toward adopting such strategies?\n",
    "Perception and Evaluation:\n",
    "\n",
    "The \"Perception and Evaluation Frequencies\" table reveals interesting insights:\n",
    "\n",
    "A significant portion of respondents (37 out of 100) agreed (somewhat or strongly) that weather impacts their electricity bills.\n",
    "However, evaluations regarding existing strategies are mixed. While some express satisfaction (14 \"somewhat\" and 11 \"very\"), a notable number (25) are either \"neither satisfied nor dissatisfied\" or show some level of dissatisfaction (18 \"somewhat\" and 4 \"very\").\n",
    "Key takeaway: While many Galway households recognize the impact of weather on energy use, their satisfaction with current strategies for managing it is divided.\n",
    "\n",
    "Descriptive Statistics by Household Size:\n",
    "\n",
    "This table provides an overview of factors potentially influencing adoption:\n",
    "\n",
    "Awareness: Awareness of energy policies seems to vary across household sizes, with \"somewhat uninformed\" as the most frequent category.\n",
    "Income: The distribution of income categories suggests a mix of households across different economic backgrounds.\n",
    "Education: Educational attainment also varies, with \"Bachelor's degree\" being the most frequent category overall.\n",
    "Key takeaways:\n",
    "\n",
    "There might be a need for targeted awareness campaigns considering the variation in knowledge about energy policies.\n",
    "The diverse income and education levels suggest the importance of strategies that cater to different needs and financial capabilities.\n",
    "Challenges Faced by Respondents:\n",
    "\n",
    "This table highlights the main barriers to adoption:\n",
    "\n",
    "Financial limitations: The most frequent challenge mentioned is financial (\"Financial opportunities,\" \"Finance,\" \"Too expensive\").\n",
    "Lack of knowledge: Some respondents mentioned a lack of information on how to implement strategies.\n",
    "Renting restrictions: A few comments indicated challenges due to being renters who might not be able to make necessary modifications.\n",
    "Key takeaways:\n",
    "\n",
    "Cost appears to be a significant barrier for many households. Strategies that are affordable or offer financial incentives might be more appealing.\n",
    "Addressing the knowledge gap through clear information and educational resources could be crucial.\n",
    "Considering solutions suitable for renters could be beneficial.\n",
    "Qualitative Analysis (Optional):\n",
    "\n",
    "While not shown explicitly, the comments you provided further support the quantitative findings:\n",
    "\n",
    "Comments like \"Strategies seem expensive\" and \"I'm a renter\" directly address cost and renting limitations.\n",
    "Sentiment analysis using TextBlob suggests a mix of positive and negative sentiment in the comments, reflecting the divided evaluations of existing strategies.\n",
    "Overall Discussion:\n",
    "\n",
    "The results suggest that while Galway households recognize the impact of weather on energy use, their satisfaction with current management strategies is mixed. Financial limitations, lack of knowledge, and renting restrictions emerge as significant barriers to adoption.\n",
    "\n",
    "Factors Influencing Adoption:\n",
    "\n",
    "Based on the analysis, here are some factors likely to influence the attitude towards adopting weather-based energy management strategies:\n",
    "\n",
    "Economic factors: Income and perceived affordability of strategies play a crucial role.\n",
    "Knowledge and awareness: Understanding the benefits and how to implement these strategies is essential.\n",
    "Housing situation: Renting restrictions and the ability to make changes to the dwelling can influence adoption.\n",
    "Model Suggestions:\n",
    "\n",
    "Considering the research questions and the nature of the data, here are some models to explore further:\n",
    "\n",
    "Logistic Regression: Predict adoption likelihood based on factors like income, awareness, and perception of weather impacts.\n",
    "Decision Tree: Understand how these factors interact and influence the decision to adopt.\n",
    "K-Means Clustering (Optional): Segment households based on awareness, income, and challenges to identify distinct groups with potentially different needs and adoption patterns (if the data allows for numerical feature creation).\n",
    "Conclusion:\n",
    "\n",
    "This analysis provides valuable insights into the perceptions, evaluations, and factors influencing the adoption of weather-based energy management strategies among Galway households. Addressing cost concerns, providing clear information, and considering renter-friendly solutions could be crucial for promoting wider adoption.  Further analysis using the suggested models can help identify specific characteristics of households most likely to benefit from these strategies.\n",
    "\n",
    "Limitations:\n",
    "\n",
    "The sample size and representativeness of the survey data need to be considered.\n",
    "The qualitative analysis is based on a limited number of comments.\n",
    "Future Research:\n",
    "\n",
    "Conduct a larger-scale survey to ensure generalizability.\n",
    "Explore additional factors influencing adoption, such as environmental concerns or social influence.\n",
    "Investigate specific types of weather-based strategies and their perceived effectiveness.\n",
    "By addressing these limitations and conducting further research, you can gain a deeper understanding of how to promote the adoption of weather-based energy management strategies"
   ]
  },
  {
   "cell_type": "markdown",
   "id": "fce28f86-041b-4fcd-adfc-a23506db888f",
   "metadata": {},
   "source": [
    "**PROJECT**\n",
    "\n",
    "**Introduction**\n",
    "\n",
    "This study investigates how Galway households perceive and evaluate weather-based energy management strategies. Additionally, it explores the factors that influence the adoption of such strategies. Understanding these aspects is crucial for promoting energy efficiency and sustainable practices in the region.\n",
    "\n",
    "**Literature Review**\n",
    "\n",
    "(Discuss relevant existing research on household adoption of energy-saving technologies)\n",
    "\n",
    "**Methodology**\n",
    "\n",
    "Data Collection: A survey was conducted among Galway households to gather data on their perceptions, evaluations, and adoption of weather-based energy management strategies. (Mention sample size and survey design briefly)\n",
    "\n",
    "Data Analysis: The collected data was analyzed using Python libraries like pandas and TextBlob. Descriptive statistics were calculated for income, education levels, and awareness of energy policies. Frequency tables were used to analyze the distribution of responses regarding perceptions, evaluations, and challenges faced when considering these strategies. For a limited number of comments, sentiment analysis was performed using TextBlob to gauge overall sentiment.\n",
    "\n",
    "**Results**\n",
    "\n",
    "- Perception and Evaluation Frequencies:\n",
    "\n",
    "A table presenting the distribution of responses across categories of perception (weather impacts electricity consumption) and evaluation (attitude towards existing strategies). (Include your \"Perception and Evaluation Frequencies\" table here)\n",
    "\n",
    "- Descriptive Statistics by Household Size:\n",
    "\n",
    "Tables summarizing income, education levels, and awareness of energy policies for different household sizes. (Include relevant tables summarizing the \"Descriptive Statistics by Household Size\" results)\n",
    "\n",
    "- Challenges Faced by Respondents:\n",
    "\n",
    "A table showing the frequency of different challenges mentioned by respondents as barriers to adopting weather-based energy management strategies. (Include your \"Challenges Faced by Respondents\" table here)\n",
    "\n",
    "- Qualitative Analysis (Optional):\n",
    "\n",
    "(Optional: Briefly discuss insights from a limited number of comments, focusing on recurring themes and sentiment analysis if conducted)\n",
    "\n",
    "**Discussion**\n",
    "\n",
    "The results reveal that while many Galway households recognize the impact of weather on their energy bills, their satisfaction with current management strategies is mixed. Financial limitations emerged as the most significant barrier to adoption, followed by a lack of knowledge and limitations for renters who might not be able to make necessary modifications.\n",
    "\n",
    "- Perceptions and Evaluations:\n",
    "\n",
    "The \"Perception and Evaluation Frequencies\" table indicates that a significant portion (37 out of 100) of respondents agree that weather impacts their electricity consumption. However, their evaluations of existing strategies are divided. While some express satisfaction (25 total), a notable number (43 total) are either \"neither satisfied nor dissatisfied\" or show some level of dissatisfaction.\n",
    "\n",
    "- Factors Influencing Adoption:\n",
    "\n",
    "- The analysis suggests that several factors influence the adoption of weather-based energy management strategies:\n",
    "\n",
    "Economic factors: The \"Descriptive Statistics by Household Size\" and \"Challenges Faced by Respondents\" sections highlight income as a key factor. Additionally, the frequent mention of \"financial opportunities\" and \"cost\" as challenges suggests affordability concerns.\n",
    "Knowledge and awareness: The variation in awareness of energy policies across household sizes (as seen in \"Descriptive Statistics by Household Size\") and the mention of \"lack of knowledge\" as a challenge indicate a need for clear information and educational resources.\n",
    "Housing situation: The comments mentioning \"I'm a renter\" (\"Challenges Faced by Respondents\") suggest that renting restrictions might be a barrier for some households.\n",
    "- Model Suggestions:\n",
    "\n",
    "Based on the data and research questions, suitable models for further analysis could include:\n",
    "\n",
    "Logistic Regression: This model can predict the likelihood of adopting weather-based strategies based on factors like income, awareness, and perception of weather impacts.\n",
    "Decision Tree: This model can help understand how various factors interact and influence the decision-making process regarding adoption.\n",
    "K-Means Clustering (Optional): If data allows for numerical feature creation, this model can segment households based on awareness, income, and challenges, potentially revealing distinct groups with different needs and adoption patterns.\n",
    "Limitations\n",
    "\n",
    "The sample size and representativeness of the survey data need to be considered. Additionally, the qualitative analysis is based on a limited number of comments.\n",
    "\n",
    "**Conclusion**\n",
    "\n",
    "This study provides valuable insights into the perceptions, evaluations, and factors influencing the adoption of weather-based energy management strategies among Galway households. Addressing cost concerns, providing clear information, and considering renter-friendly solutions are crucial for promoting wider adoption.  Further analysis using the suggested models can help identify specific characteristics of households most likely to benefit from these strategies.\n",
    "\n",
    "**Future Research**\n",
    "\n",
    "Conduct a larger-scale survey to ensure generalizability.\n",
    "Explore additional factors influencing adoption, such as environmental concerns or social influence.\n",
    "Investigate specific types of weather-based strategies and their perceived effectiveness."
   ]
  },
  {
   "cell_type": "code",
   "execution_count": 43,
   "id": "1bd8d179-7492-4b07-be35-9f4a75d37a87",
   "metadata": {},
   "outputs": [],
   "source": [
    "from wordcloud import WordCloud\n",
    "import matplotlib.pyplot as plt\n",
    "import nltk\n",
    "from nltk.corpus import stopwords"
   ]
  },
  {
   "cell_type": "code",
   "execution_count": 44,
   "id": "24823a2e-7b9d-45fc-bd96-31aafa4a7d5b",
   "metadata": {},
   "outputs": [],
   "source": [
    "# Challenges responses from survey\n",
    "challenges = [\"Finance\", \"Lack of information\",\"Renting\",\"Oldest house\",\"Politics\"]"
   ]
  },
  {
   "cell_type": "code",
   "execution_count": 45,
   "id": "7ffffb20-e693-422e-bf11-928fca273538",
   "metadata": {},
   "outputs": [],
   "source": [
    "# List 'challenges'\n",
    "text = \" \".join(challenges)"
   ]
  },
  {
   "cell_type": "code",
   "execution_count": 46,
   "id": "82b0526d-b1ff-41cf-9365-9f5fb9b5cbec",
   "metadata": {},
   "outputs": [
    {
     "data": {
      "image/png": "[encoded data removed]",
      "text/plain": [
       "<Figure size 800x600 with 1 Axes>"
      ]
     },
     "metadata": {},
     "output_type": "display_data"
    }
   ],
   "source": [
    "# Create the wordcloud object\n",
    "wordcloud = WordCloud(width=800, height=600, background_color=\"white\").generate(text)\n",
    "\n",
    "# Create a figure and display the wordcloud\n",
    "plt.figure(figsize=(8, 6))\n",
    "plt.imshow(wordcloud, interpolation='bilinear')\n",
    "plt.axis('off')\n",
    "plt.title(\"Challenges Faced by Respondents\")\n",
    "plt.show()"
   ]
  },
  {
   "cell_type": "markdown",
   "id": "8481897d-b6bb-48dd-bde9-8dd7bd258f8c",
   "metadata": {},
   "source": [
    "**LOGISTIC REGRESSION**\n",
    "\n",
    "Training a Logistic Regression model to predict the likelihood of a household adopting weather-based energy management strategies based on the challenges they face. This is just one approach, and other models like Random Forests or Support Vector Machines could also be explored depending on your data and preferences.\n",
    "\n",
    "Data Preparation:\n",
    "\n",
    "- Feature Engineering: Convert the challenges faced by respondents into numerical features. You can do this in a few ways:\n",
    "Presence/Absence: Create a binary feature for each challenge (e.g., 1 if \"Financial opportunities\" is mentioned, 0 otherwise).\n",
    "Frequency: Count the number of times each challenge is mentioned for a household.\n",
    "- Target Variable: Define a binary target variable indicating whether a household is likely to adopt (1) or not (0) based on their survey responses (assuming you have this information).\n",
    "Here's an example using Python libraries like Pandas and scikit-learn:"
   ]
  },
  {
   "cell_type": "markdown",
   "id": "c6ac0524-8666-4fa2-a246-a0a4cec6c75e",
   "metadata": {},
   "source": [
    "Part 1: Importing Libraries"
   ]
  },
  {
   "cell_type": "code",
   "execution_count": 47,
   "id": "83773720-4e37-4afd-8c2b-47e4b5945d97",
   "metadata": {},
   "outputs": [],
   "source": [
    "import pandas as pd\n",
    "from sklearn.linear_model import LogisticRegression\n",
    "from sklearn.model_selection import train_test_split"
   ]
  },
  {
   "cell_type": "markdown",
   "id": "70d36fb2-94cf-47b0-9db8-247172fa1f9c",
   "metadata": {},
   "source": [
    "Part 2: Loading and Preparing Data "
   ]
  },
  {
   "cell_type": "code",
   "execution_count": 48,
   "id": "ad2790c4-3e4e-4824-b7f2-24d8f0a7e6af",
   "metadata": {},
   "outputs": [],
   "source": [
    "# Assuming your data is in a CSV file named 'survey_data.csv'\n",
    "data = pd.read_csv('survey_data.csv')\n",
    "\n",
    "# Feature engineering - Method 1: Using boolean indexing directly (recommended)\n",
    "challenge_features = {}\n",
    "for challenge in data.columns[data.columns.str.contains('challenge')]:\n",
    "  challenge_features[challenge] = data[challenge].apply(lambda x: 1 if x else 0)\n",
    "\n",
    "# Feature engineering - Method 2: Using list comprehension (optional)\n",
    "# challenge_features = {challenge: data[challenge].apply(lambda x: 1 if x else 0) for challenge in data.columns if 'challenge' in challenge}  # Uncomment if preferred\n",
    "\n",
    "# Combine features and target variable\n",
    "features = pd.DataFrame(challenge_features)\n",
    "target = data['weather-based_energy_management_strategies_adoption']"
   ]
  },
  {
   "cell_type": "code",
   "execution_count": 49,
   "id": "66977c1a-e481-43be-914a-ad4043128102",
   "metadata": {},
   "outputs": [
    {
     "name": "stdout",
     "output_type": "stream",
     "text": [
      "Model Accuracy: 0.425\n"
     ]
    }
   ],
   "source": [
    "# Train-test split\n",
    "X_train, X_test, y_train, y_test = train_test_split(features, target, test_size=0.2)\n",
    "\n",
    "# Train the Logistic Regression model\n",
    "model = LogisticRegression()\n",
    "model.fit(X_train, y_train)\n",
    "\n",
    "# Evaluate the model (replace with desired metric)\n",
    "predictions = model.predict(X_test)\n",
    "accuracy = (predictions == y_test).mean()\n",
    "print(f\"Model Accuracy: {accuracy}\")"
   ]
  },
  {
   "cell_type": "markdown",
   "id": "04d47f24-8b4e-4403-a09b-e366b0f6341b",
   "metadata": {},
   "source": [
    "Model Selection and Tuning:\n",
    "Logistic Regression might not be the best model for these data. Other classification algorithms like Random Forest, Support Vector Machines (SVM), or Gradient Boosting Machines may be suitable. These models might be better suited to capture non-linear relationships in the data.\n",
    "Experiment with hyperparameter tuning for the chosen model. Hyperparameters are settings that control the model's behavior, and tuning them can significantly improve performance. Tools like GridSearchCV can be used for this purpose."
   ]
  },
  {
   "cell_type": "code",
   "execution_count": null,
   "id": "31c45097-652d-4ab3-97bf-041ebd48757f",
   "metadata": {},
   "outputs": [],
   "source": []
  },
  {
   "cell_type": "code",
   "execution_count": null,
   "id": "65edf71a-4798-4734-8726-00f16bb8f8f7",
   "metadata": {},
   "outputs": [],
   "source": []
  },
  {
   "cell_type": "code",
   "execution_count": null,
   "id": "f6a8a54c-cc7a-4cff-b70d-7f0b23c5e1bc",
   "metadata": {},
   "outputs": [],
   "source": []
  }
 ],
 "metadata": {
  "kernelspec": {
   "display_name": "Python 3 (ipykernel)",
   "language": "python",
   "name": "python3"
  },
  "language_info": {
   "codemirror_mode": {
    "name": "ipython",
    "version": 3
   },
   "file_extension": ".py",
   "mimetype": "text/x-python",
   "name": "python",
   "nbconvert_exporter": "python",
   "pygments_lexer": "ipython3",
   "version": "3.11.8"
  }
 },
 "nbformat": 4,
 "nbformat_minor": 5
}
