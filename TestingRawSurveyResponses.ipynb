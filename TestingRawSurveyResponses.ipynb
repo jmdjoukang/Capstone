{
 "cells": [
  {
   "cell_type": "code",
   "execution_count": 41,
   "id": "8cb7a17a",
   "metadata": {},
   "outputs": [],
   "source": [
    "# Import libraries\n",
    "import pandas as pd\n",
    "from nltk.sentiment.vader import SentimentIntensityAnalyzer\n",
    "import matplotlib.pyplot as plt"
   ]
  },
  {
   "cell_type": "code",
   "execution_count": 42,
   "id": "9fb37f15",
   "metadata": {},
   "outputs": [],
   "source": [
    "# Load data\n",
    "df = pd.read_csv('Weather-Based Energy Management Strategies SurveyTest.csv')"
   ]
  },
  {
   "cell_type": "code",
   "execution_count": 43,
   "id": "6633c467",
   "metadata": {},
   "outputs": [
    {
     "name": "stdout",
     "output_type": "stream",
     "text": [
      "  household_size     type of dwelling weather-sensitive features  \\\n",
      "0          45387  Semi-detached house                         No   \n",
      "1          45387            Apartment                        Yes   \n",
      "2          45325            Apartment                        Yes   \n",
      "3          45387  Semi-detached house                        Yes   \n",
      "4    More than 5       Detached house                        Yes   \n",
      "\n",
      "         attitude weather conditions most affecting home's energy use  \\\n",
      "0  Strongly agree                                      Precipitation    \n",
      "1  Somewhat agree                                               Wind    \n",
      "2         Neutral                             Precipitation;Humidity    \n",
      "3  Strongly agree                                        Temperature    \n",
      "4  Somewhat agree                                   Temperature;Wind    \n",
      "\n",
      "  knowledge_about_weather_energy  \\\n",
      "0              Somewhat informed   \n",
      "1                        Neutral   \n",
      "2              Somewhat informed   \n",
      "3                        Neutral   \n",
      "4                  Very informed   \n",
      "\n",
      "  adopting the weather-based energy management strategies  \\\n",
      "0  Adjusting your thermostat settings based on th...        \n",
      "1                     Unplugging unused electronics.        \n",
      "2  Adjusting your thermostat settings based on th...        \n",
      "3  Adjusting your thermostat settings based on th...        \n",
      "4  Adjusting your thermostat settings based on th...        \n",
      "\n",
      "  challenges in implementing energy-saving practices  \\\n",
      "0                                                NaN   \n",
      "1                                                NaN   \n",
      "2                                                NaN   \n",
      "3                                                NaN   \n",
      "4                                                NaN   \n",
      "\n",
      "               appliances using the most electricity  \\\n",
      "0  Refrigerator;Washing machine;Dishwasher;Televi...   \n",
      "1                                         Television   \n",
      "2                              Dishwasher;Television   \n",
      "3                      Refrigerator;Dryer;Television   \n",
      "4      Refrigerator;Washing machine;Dryer;Dishwasher   \n",
      "\n",
      "  days when household's electricity consumption is significantly higher  \\\n",
      "0                                                NaN                      \n",
      "1                                                NaN                      \n",
      "2                                                NaN                      \n",
      "3                                                NaN                      \n",
      "4                                                NaN                      \n",
      "\n",
      "  energy provider inform  about the electricity consumption and ways to save energy  \\\n",
      "0                                            Neutral                                  \n",
      "1                                      Somewhat well                                  \n",
      "2                                      Somewhat well                                  \n",
      "3                                      Somewhat well                                  \n",
      "4                                    Somewhat poorly                                  \n",
      "\n",
      "  What is your age range?                          education  \\\n",
      "0         35-44 years old  High school diploma or equivalent   \n",
      "1         35-44 years old          Master's degree or higher   \n",
      "2         18-24 years old              Less than high school   \n",
      "3         18-24 years old              Less than high school   \n",
      "4         18-24 years old              Less than high school   \n",
      "\n",
      "  What is your occupation (optional)?              income  \\\n",
      "0                                  NaN  €20,000 - €40,000   \n",
      "1                                  NaN  €20,000 - €40,000   \n",
      "2                                  NaN  €20,000 - €40,000   \n",
      "3                                  NaN  €40,000 - €60,000   \n",
      "4                                  NaN  Less than €20,000   \n",
      "\n",
      "  comments or suggestions   \n",
      "0                      NaN  \n",
      "1                      NaN  \n",
      "2                      NaN  \n",
      "3                      NaN  \n",
      "4                      NaN  \n"
     ]
    }
   ],
   "source": [
    "# Display the first 5 rows of the dataframe\n",
    "print(df.head())"
   ]
  },
  {
   "cell_type": "code",
   "execution_count": 44,
   "id": "a8523d18",
   "metadata": {},
   "outputs": [
    {
     "name": "stdout",
     "output_type": "stream",
     "text": [
      "count                    72\n",
      "unique                    6\n",
      "top       €20,000 - €40,000\n",
      "freq                     27\n",
      "Name: income, dtype: object\n"
     ]
    }
   ],
   "source": [
    "# Get the summary statistics for the 'income' column\n",
    "print(df['income'].describe())"
   ]
  },
  {
   "cell_type": "code",
   "execution_count": 45,
   "id": "f9e6ede1",
   "metadata": {},
   "outputs": [
    {
     "name": "stdout",
     "output_type": "stream",
     "text": [
      "Master's degree or higher            21\n",
      "Some college                         18\n",
      "Bachelor's degree                    17\n",
      "High school diploma or equivalent     9\n",
      "Less than high school                 9\n",
      "Name: education, dtype: int64\n"
     ]
    }
   ],
   "source": [
    "# Get the count of each unique value in the 'education' column\n",
    "print(df['education'].value_counts())"
   ]
  },
  {
   "cell_type": "code",
   "execution_count": 46,
   "id": "b0240f50",
   "metadata": {},
   "outputs": [
    {
     "name": "stdout",
     "output_type": "stream",
     "text": [
      "Somewhat informed      23\n",
      "Neutral                18\n",
      "Somewhat uninformed    14\n",
      "Very informed          13\n",
      "Very uninformed         6\n",
      "Name: knowledge_about_weather_energy, dtype: int64\n"
     ]
    }
   ],
   "source": [
    "# Get the count of each unique value in the 'knowledge_about_weather_energy' column\n",
    "print(df['knowledge_about_weather_energy'].value_counts())"
   ]
  },
  {
   "cell_type": "code",
   "execution_count": 47,
   "id": "971b2dc2",
   "metadata": {},
   "outputs": [
    {
     "name": "stdout",
     "output_type": "stream",
     "text": [
      "Strongly agree       29\n",
      "Somewhat agree       25\n",
      "Neutral              11\n",
      "Somewhat disagree     6\n",
      "Strongly disagree     3\n",
      "Name: attitude, dtype: int64\n"
     ]
    }
   ],
   "source": [
    "# Get the count of each unique value in the 'attitude' column\n",
    "print(df['attitude'].value_counts())"
   ]
  },
  {
   "cell_type": "code",
   "execution_count": 48,
   "id": "f46c001b",
   "metadata": {},
   "outputs": [],
   "source": [
    "from textblob import TextBlob"
   ]
  },
  {
   "cell_type": "code",
   "execution_count": 49,
   "id": "f0993342",
   "metadata": {},
   "outputs": [],
   "source": [
    "df['attitude'] = df['attitude'].astype(str)\n",
    "df['polarity'] = df['attitude'].apply(lambda x: TextBlob(x).sentiment.polarity)\n",
    "df['subjectivity'] = df['attitude'].apply(lambda x: TextBlob(x).sentiment.subjectivity)"
   ]
  },
  {
   "cell_type": "code",
   "execution_count": 50,
   "id": "d744a57e",
   "metadata": {},
   "outputs": [],
   "source": [
    "import pandas as pd\n",
    "import nltk\n",
    "from nltk.sentiment.vader import SentimentIntensityAnalyzer"
   ]
  },
  {
   "cell_type": "code",
   "execution_count": 51,
   "id": "97620d1c",
   "metadata": {},
   "outputs": [
    {
     "name": "stderr",
     "output_type": "stream",
     "text": [
      "[nltk_data] Downloading package vader_lexicon to\n",
      "[nltk_data]     C:\\Users\\I346462\\AppData\\Roaming\\nltk_data...\n",
      "[nltk_data]   Package vader_lexicon is already up-to-date!\n"
     ]
    },
    {
     "data": {
      "text/plain": [
       "True"
      ]
     },
     "execution_count": 51,
     "metadata": {},
     "output_type": "execute_result"
    }
   ],
   "source": [
    "# Download the vader lexicon\n",
    "nltk.download('vader_lexicon')"
   ]
  },
  {
   "cell_type": "code",
   "execution_count": 52,
   "id": "d6ee63ab",
   "metadata": {},
   "outputs": [],
   "source": [
    "# Load the data\n",
    "df = pd.read_csv('Weather-Based Energy Management Strategies SurveyTest.csv')"
   ]
  },
  {
   "cell_type": "code",
   "execution_count": 53,
   "id": "10a353e1",
   "metadata": {},
   "outputs": [],
   "source": [
    "# Initialize the sentiment intensity analyzer\n",
    "sia = SentimentIntensityAnalyzer()"
   ]
  },
  {
   "cell_type": "code",
   "execution_count": 54,
   "id": "3d0e7d21",
   "metadata": {},
   "outputs": [],
   "source": [
    "# Convert 'attitude' column to string\n",
    "df['attitude'] = df['attitude'].astype(str)"
   ]
  },
  {
   "cell_type": "code",
   "execution_count": 55,
   "id": "d0b39988",
   "metadata": {},
   "outputs": [],
   "source": [
    "# Apply sentiment analysis on the 'attitude' column\n",
    "df['sentiment'] = df['attitude'].apply(lambda attitude: sia.polarity_scores(attitude))"
   ]
  },
  {
   "cell_type": "code",
   "execution_count": 56,
   "id": "cffa417b",
   "metadata": {},
   "outputs": [
    {
     "name": "stdout",
     "output_type": "stream",
     "text": [
      "   household_size     type of dwelling weather-sensitive features  \\\n",
      "0           45387  Semi-detached house                         No   \n",
      "1           45387            Apartment                        Yes   \n",
      "2           45325            Apartment                        Yes   \n",
      "3           45387  Semi-detached house                        Yes   \n",
      "4     More than 5       Detached house                        Yes   \n",
      "..            ...                  ...                        ...   \n",
      "72          45387  Semi-detached house                         No   \n",
      "73          45325       Detached house                        Yes   \n",
      "74          45325            Apartment                        Yes   \n",
      "75          45325  Semi-detached house                        Yes   \n",
      "76              1       Detached house                         No   \n",
      "\n",
      "             attitude weather conditions most affecting home's energy use  \\\n",
      "0      Strongly agree                                      Precipitation    \n",
      "1      Somewhat agree                                               Wind    \n",
      "2             Neutral                             Precipitation;Humidity    \n",
      "3      Strongly agree                                        Temperature    \n",
      "4      Somewhat agree                                   Temperature;Wind    \n",
      "..                ...                                                ...    \n",
      "72            Neutral                             Precipitation;Humidity    \n",
      "73     Strongly agree                               Temperature;Humidity    \n",
      "74     Strongly agree            Temperature;Precipitation;Wind;Humidity    \n",
      "75  Somewhat disagree            Temperature;Precipitation;Wind;Humidity    \n",
      "76     Strongly agree                        Precipitation;Wind;Humidity    \n",
      "\n",
      "   knowledge_about_weather_energy  \\\n",
      "0               Somewhat informed   \n",
      "1                         Neutral   \n",
      "2               Somewhat informed   \n",
      "3                         Neutral   \n",
      "4                   Very informed   \n",
      "..                            ...   \n",
      "72                        Neutral   \n",
      "73                  Very informed   \n",
      "74                  Very informed   \n",
      "75              Somewhat informed   \n",
      "76                  Very informed   \n",
      "\n",
      "   adopting the weather-based energy management strategies  \\\n",
      "0   Adjusting your thermostat settings based on th...        \n",
      "1                      Unplugging unused electronics.        \n",
      "2   Adjusting your thermostat settings based on th...        \n",
      "3   Adjusting your thermostat settings based on th...        \n",
      "4   Adjusting your thermostat settings based on th...        \n",
      "..                                                ...        \n",
      "72                     Unplugging unused electronics.        \n",
      "73  Adjusting your thermostat settings based on th...        \n",
      "74  Using energy-efficient appliances whenever pos...        \n",
      "75  Unplugging unused electronics.;Taking shorter ...        \n",
      "76  Adjusting your thermostat settings based on th...        \n",
      "\n",
      "   challenges in implementing energy-saving practices  \\\n",
      "0                                                 NaN   \n",
      "1                                                 NaN   \n",
      "2                                                 NaN   \n",
      "3                                                 NaN   \n",
      "4                                                 NaN   \n",
      "..                                                ...   \n",
      "72                                           Politics   \n",
      "73                                        None at all   \n",
      "74                        I leave in an old building    \n",
      "75                                Financial barriers    \n",
      "76  I leave in a house that was built by my parent...   \n",
      "\n",
      "                appliances using the most electricity  \\\n",
      "0   Refrigerator;Washing machine;Dishwasher;Televi...   \n",
      "1                                          Television   \n",
      "2                               Dishwasher;Television   \n",
      "3                       Refrigerator;Dryer;Television   \n",
      "4       Refrigerator;Washing machine;Dryer;Dishwasher   \n",
      "..                                                ...   \n",
      "72                                   Dryer;Dishwasher   \n",
      "73                              Washing machine;Dryer   \n",
      "74                                 Refrigerator;Dryer   \n",
      "75  Refrigerator;Washing machine;Dryer;Dishwasher;...   \n",
      "76                              Washing machine;Dryer   \n",
      "\n",
      "   days when household's electricity consumption is significantly higher  \\\n",
      "0                                                 NaN                      \n",
      "1                                                 NaN                      \n",
      "2                                                 NaN                      \n",
      "3                                                 NaN                      \n",
      "4                                                 NaN                      \n",
      "..                                                ...                      \n",
      "72                                              Never                      \n",
      "73                                           Sundays                       \n",
      "74                                           Weekend                       \n",
      "75                              Weekend and holidays                       \n",
      "76                                                 No                      \n",
      "\n",
      "   energy provider inform  about the electricity consumption and ways to save energy  \\\n",
      "0                                             Neutral                                  \n",
      "1                                       Somewhat well                                  \n",
      "2                                       Somewhat well                                  \n",
      "3                                       Somewhat well                                  \n",
      "4                                     Somewhat poorly                                  \n",
      "..                                                ...                                  \n",
      "72                                        Very poorly                                  \n",
      "73                                          Very well                                  \n",
      "74                                          Very well                                  \n",
      "75                                      Somewhat well                                  \n",
      "76                                        Very poorly                                  \n",
      "\n",
      "   What is your age range?                          education  \\\n",
      "0          35-44 years old  High school diploma or equivalent   \n",
      "1          35-44 years old          Master's degree or higher   \n",
      "2          18-24 years old              Less than high school   \n",
      "3          18-24 years old              Less than high school   \n",
      "4          18-24 years old              Less than high school   \n",
      "..                     ...                                ...   \n",
      "72         55-64 years old          Master's degree or higher   \n",
      "73         35-44 years old                  Bachelor's degree   \n",
      "74         55-64 years old                       Some college   \n",
      "75         45-54 years old          Master's degree or higher   \n",
      "76         18-24 years old                  Bachelor's degree   \n",
      "\n",
      "   What is your occupation (optional)?              income  \\\n",
      "0                                   NaN  €20,000 - €40,000   \n",
      "1                                   NaN  €20,000 - €40,000   \n",
      "2                                   NaN  €20,000 - €40,000   \n",
      "3                                   NaN  €40,000 - €60,000   \n",
      "4                                   NaN  Less than €20,000   \n",
      "..                                  ...                ...   \n",
      "72                            Engineer   More than €80,000   \n",
      "73            Director Human Resources   More than €80,000   \n",
      "74                                  NaN  €60,000 - €80,000   \n",
      "75                        Entrepreneur   More than €80,000   \n",
      "76                             Student   €20,000 - €40,000   \n",
      "\n",
      "                             comments or suggestions   \\\n",
      "0                                                 NaN   \n",
      "1                                                 NaN   \n",
      "2                                                 NaN   \n",
      "3                                                 NaN   \n",
      "4                                                 NaN   \n",
      "..                                                ...   \n",
      "72                                          Politics    \n",
      "73  More energy efficient to be proposed by the go...   \n",
      "74  Government to provide refurbishment grant to a...   \n",
      "75  Use the data gathered to develop a strategy fo...   \n",
      "76  I need to be informed on what’s going on regul...   \n",
      "\n",
      "                                            sentiment  \n",
      "0   {'neg': 0.0, 'neu': 0.0, 'pos': 1.0, 'compound...  \n",
      "1   {'neg': 0.0, 'neu': 0.312, 'pos': 0.688, 'comp...  \n",
      "2   {'neg': 0.0, 'neu': 1.0, 'pos': 0.0, 'compound...  \n",
      "3   {'neg': 0.0, 'neu': 0.0, 'pos': 1.0, 'compound...  \n",
      "4   {'neg': 0.0, 'neu': 0.312, 'pos': 0.688, 'comp...  \n",
      "..                                                ...  \n",
      "72  {'neg': 0.0, 'neu': 1.0, 'pos': 0.0, 'compound...  \n",
      "73  {'neg': 0.0, 'neu': 0.0, 'pos': 1.0, 'compound...  \n",
      "74  {'neg': 0.0, 'neu': 0.0, 'pos': 1.0, 'compound...  \n",
      "75  {'neg': 0.698, 'neu': 0.302, 'pos': 0.0, 'comp...  \n",
      "76  {'neg': 0.0, 'neu': 0.0, 'pos': 1.0, 'compound...  \n",
      "\n",
      "[77 rows x 17 columns]\n"
     ]
    }
   ],
   "source": [
    "# Print the dataframe\n",
    "print(df)"
   ]
  },
  {
   "cell_type": "code",
   "execution_count": 59,
   "id": "501854aa",
   "metadata": {},
   "outputs": [],
   "source": [
    "from sklearn.model_selection import train_test_split\n",
    "from sklearn.linear_model import LogisticRegression\n",
    "from sklearn.preprocessing import LabelEncoder"
   ]
  },
  {
   "cell_type": "code",
   "execution_count": 60,
   "id": "1fb4b353",
   "metadata": {},
   "outputs": [],
   "source": [
    "# Convert categorical variables to numeric\n",
    "le = LabelEncoder()\n",
    "df['type of dwelling'] = le.fit_transform(df['type of dwelling'])"
   ]
  },
  {
   "cell_type": "code",
   "execution_count": 61,
   "id": "61b7585c",
   "metadata": {},
   "outputs": [],
   "source": [
    "# Define the features and the target\n",
    "X = df[['household_size', 'type of dwelling']]\n",
    "y = df['adopting the weather-based energy management strategies']"
   ]
  },
  {
   "cell_type": "code",
   "execution_count": 62,
   "id": "74a96dfc",
   "metadata": {},
   "outputs": [],
   "source": [
    "# Split the data into training and test sets\n",
    "X_train, X_test, y_train, y_test = train_test_split(X, y, test_size=0.2, random_state=42)"
   ]
  },
  {
   "cell_type": "code",
   "execution_count": 63,
   "id": "5aa2239e",
   "metadata": {},
   "outputs": [],
   "source": [
    "# Create a logistic regression model\n",
    "model = LogisticRegression()"
   ]
  },
  {
   "cell_type": "code",
   "execution_count": 65,
   "id": "85b58de4",
   "metadata": {},
   "outputs": [],
   "source": [
    "# Define a dictionary mapping\n",
    "household_size_mapping = {\n",
    "    '1': 1,\n",
    "    '2': 2,\n",
    "    '3': 3,\n",
    "    '4': 4,\n",
    "    '5': 5,\n",
    "    'More than 5': 6\n",
    "}"
   ]
  },
  {
   "cell_type": "code",
   "execution_count": 67,
   "id": "ab23b0b3",
   "metadata": {},
   "outputs": [],
   "source": [
    "# Apply the mapping to the 'household_size' column\n",
    "df['household_size'] = df['household_size'].map(household_size_mapping)"
   ]
  },
  {
   "cell_type": "code",
   "execution_count": 69,
   "id": "7f023169",
   "metadata": {},
   "outputs": [
    {
     "name": "stdout",
     "output_type": "stream",
     "text": [
      "    household_size  type of dwelling weather-sensitive features  \\\n",
      "0              NaN                 2                         No   \n",
      "1              NaN                 0                        Yes   \n",
      "2              NaN                 0                        Yes   \n",
      "3              NaN                 2                        Yes   \n",
      "4              6.0                 1                        Yes   \n",
      "..             ...               ...                        ...   \n",
      "72             NaN                 2                         No   \n",
      "73             NaN                 1                        Yes   \n",
      "74             NaN                 0                        Yes   \n",
      "75             NaN                 2                        Yes   \n",
      "76             1.0                 1                         No   \n",
      "\n",
      "             attitude weather conditions most affecting home's energy use  \\\n",
      "0      Strongly agree                                      Precipitation    \n",
      "1      Somewhat agree                                               Wind    \n",
      "2             Neutral                             Precipitation;Humidity    \n",
      "3      Strongly agree                                        Temperature    \n",
      "4      Somewhat agree                                   Temperature;Wind    \n",
      "..                ...                                                ...    \n",
      "72            Neutral                             Precipitation;Humidity    \n",
      "73     Strongly agree                               Temperature;Humidity    \n",
      "74     Strongly agree            Temperature;Precipitation;Wind;Humidity    \n",
      "75  Somewhat disagree            Temperature;Precipitation;Wind;Humidity    \n",
      "76     Strongly agree                        Precipitation;Wind;Humidity    \n",
      "\n",
      "   knowledge_about_weather_energy  \\\n",
      "0               Somewhat informed   \n",
      "1                         Neutral   \n",
      "2               Somewhat informed   \n",
      "3                         Neutral   \n",
      "4                   Very informed   \n",
      "..                            ...   \n",
      "72                        Neutral   \n",
      "73                  Very informed   \n",
      "74                  Very informed   \n",
      "75              Somewhat informed   \n",
      "76                  Very informed   \n",
      "\n",
      "   adopting the weather-based energy management strategies  \\\n",
      "0   Adjusting your thermostat settings based on th...        \n",
      "1                      Unplugging unused electronics.        \n",
      "2   Adjusting your thermostat settings based on th...        \n",
      "3   Adjusting your thermostat settings based on th...        \n",
      "4   Adjusting your thermostat settings based on th...        \n",
      "..                                                ...        \n",
      "72                     Unplugging unused electronics.        \n",
      "73  Adjusting your thermostat settings based on th...        \n",
      "74  Using energy-efficient appliances whenever pos...        \n",
      "75  Unplugging unused electronics.;Taking shorter ...        \n",
      "76  Adjusting your thermostat settings based on th...        \n",
      "\n",
      "   challenges in implementing energy-saving practices  \\\n",
      "0                                                 NaN   \n",
      "1                                                 NaN   \n",
      "2                                                 NaN   \n",
      "3                                                 NaN   \n",
      "4                                                 NaN   \n",
      "..                                                ...   \n",
      "72                                           Politics   \n",
      "73                                        None at all   \n",
      "74                        I leave in an old building    \n",
      "75                                Financial barriers    \n",
      "76  I leave in a house that was built by my parent...   \n",
      "\n",
      "                appliances using the most electricity  \\\n",
      "0   Refrigerator;Washing machine;Dishwasher;Televi...   \n",
      "1                                          Television   \n",
      "2                               Dishwasher;Television   \n",
      "3                       Refrigerator;Dryer;Television   \n",
      "4       Refrigerator;Washing machine;Dryer;Dishwasher   \n",
      "..                                                ...   \n",
      "72                                   Dryer;Dishwasher   \n",
      "73                              Washing machine;Dryer   \n",
      "74                                 Refrigerator;Dryer   \n",
      "75  Refrigerator;Washing machine;Dryer;Dishwasher;...   \n",
      "76                              Washing machine;Dryer   \n",
      "\n",
      "   days when household's electricity consumption is significantly higher  \\\n",
      "0                                                 NaN                      \n",
      "1                                                 NaN                      \n",
      "2                                                 NaN                      \n",
      "3                                                 NaN                      \n",
      "4                                                 NaN                      \n",
      "..                                                ...                      \n",
      "72                                              Never                      \n",
      "73                                           Sundays                       \n",
      "74                                           Weekend                       \n",
      "75                              Weekend and holidays                       \n",
      "76                                                 No                      \n",
      "\n",
      "   energy provider inform  about the electricity consumption and ways to save energy  \\\n",
      "0                                             Neutral                                  \n",
      "1                                       Somewhat well                                  \n",
      "2                                       Somewhat well                                  \n",
      "3                                       Somewhat well                                  \n",
      "4                                     Somewhat poorly                                  \n",
      "..                                                ...                                  \n",
      "72                                        Very poorly                                  \n",
      "73                                          Very well                                  \n",
      "74                                          Very well                                  \n",
      "75                                      Somewhat well                                  \n",
      "76                                        Very poorly                                  \n",
      "\n",
      "   What is your age range?                          education  \\\n",
      "0          35-44 years old  High school diploma or equivalent   \n",
      "1          35-44 years old          Master's degree or higher   \n",
      "2          18-24 years old              Less than high school   \n",
      "3          18-24 years old              Less than high school   \n",
      "4          18-24 years old              Less than high school   \n",
      "..                     ...                                ...   \n",
      "72         55-64 years old          Master's degree or higher   \n",
      "73         35-44 years old                  Bachelor's degree   \n",
      "74         55-64 years old                       Some college   \n",
      "75         45-54 years old          Master's degree or higher   \n",
      "76         18-24 years old                  Bachelor's degree   \n",
      "\n",
      "   What is your occupation (optional)?              income  \\\n",
      "0                                   NaN  €20,000 - €40,000   \n",
      "1                                   NaN  €20,000 - €40,000   \n",
      "2                                   NaN  €20,000 - €40,000   \n",
      "3                                   NaN  €40,000 - €60,000   \n",
      "4                                   NaN  Less than €20,000   \n",
      "..                                  ...                ...   \n",
      "72                            Engineer   More than €80,000   \n",
      "73            Director Human Resources   More than €80,000   \n",
      "74                                  NaN  €60,000 - €80,000   \n",
      "75                        Entrepreneur   More than €80,000   \n",
      "76                             Student   €20,000 - €40,000   \n",
      "\n",
      "                             comments or suggestions   \\\n",
      "0                                                 NaN   \n",
      "1                                                 NaN   \n",
      "2                                                 NaN   \n",
      "3                                                 NaN   \n",
      "4                                                 NaN   \n",
      "..                                                ...   \n",
      "72                                          Politics    \n",
      "73  More energy efficient to be proposed by the go...   \n",
      "74  Government to provide refurbishment grant to a...   \n",
      "75  Use the data gathered to develop a strategy fo...   \n",
      "76  I need to be informed on what’s going on regul...   \n",
      "\n",
      "                                            sentiment  \n",
      "0   {'neg': 0.0, 'neu': 0.0, 'pos': 1.0, 'compound...  \n",
      "1   {'neg': 0.0, 'neu': 0.312, 'pos': 0.688, 'comp...  \n",
      "2   {'neg': 0.0, 'neu': 1.0, 'pos': 0.0, 'compound...  \n",
      "3   {'neg': 0.0, 'neu': 0.0, 'pos': 1.0, 'compound...  \n",
      "4   {'neg': 0.0, 'neu': 0.312, 'pos': 0.688, 'comp...  \n",
      "..                                                ...  \n",
      "72  {'neg': 0.0, 'neu': 1.0, 'pos': 0.0, 'compound...  \n",
      "73  {'neg': 0.0, 'neu': 0.0, 'pos': 1.0, 'compound...  \n",
      "74  {'neg': 0.0, 'neu': 0.0, 'pos': 1.0, 'compound...  \n",
      "75  {'neg': 0.698, 'neu': 0.302, 'pos': 0.0, 'comp...  \n",
      "76  {'neg': 0.0, 'neu': 0.0, 'pos': 1.0, 'compound...  \n",
      "\n",
      "[77 rows x 17 columns]\n"
     ]
    }
   ],
   "source": [
    "# Print the dataframe\n",
    "print(df)"
   ]
  },
  {
   "cell_type": "code",
   "execution_count": 70,
   "id": "96594ef7",
   "metadata": {},
   "outputs": [
    {
     "ename": "ValueError",
     "evalue": "could not convert string to float: 'More than 5'",
     "output_type": "error",
     "traceback": [
      "\u001b[1;31m---------------------------------------------------------------------------\u001b[0m",
      "\u001b[1;31mValueError\u001b[0m                                Traceback (most recent call last)",
      "\u001b[1;32m~\\AppData\\Local\\Temp/ipykernel_25376/3283114862.py\u001b[0m in \u001b[0;36m<module>\u001b[1;34m\u001b[0m\n\u001b[0;32m      1\u001b[0m \u001b[1;31m# Train the model\u001b[0m\u001b[1;33m\u001b[0m\u001b[1;33m\u001b[0m\u001b[0m\n\u001b[1;32m----> 2\u001b[1;33m \u001b[0mmodel\u001b[0m\u001b[1;33m.\u001b[0m\u001b[0mfit\u001b[0m\u001b[1;33m(\u001b[0m\u001b[0mX_train\u001b[0m\u001b[1;33m,\u001b[0m \u001b[0my_train\u001b[0m\u001b[1;33m)\u001b[0m\u001b[1;33m\u001b[0m\u001b[1;33m\u001b[0m\u001b[0m\n\u001b[0m",
      "\u001b[1;32m~\\Anaconda3\\lib\\site-packages\\sklearn\\linear_model\\_logistic.py\u001b[0m in \u001b[0;36mfit\u001b[1;34m(self, X, y, sample_weight)\u001b[0m\n\u001b[0;32m   1194\u001b[0m             \u001b[0m_dtype\u001b[0m \u001b[1;33m=\u001b[0m \u001b[1;33m[\u001b[0m\u001b[0mnp\u001b[0m\u001b[1;33m.\u001b[0m\u001b[0mfloat64\u001b[0m\u001b[1;33m,\u001b[0m \u001b[0mnp\u001b[0m\u001b[1;33m.\u001b[0m\u001b[0mfloat32\u001b[0m\u001b[1;33m]\u001b[0m\u001b[1;33m\u001b[0m\u001b[1;33m\u001b[0m\u001b[0m\n\u001b[0;32m   1195\u001b[0m \u001b[1;33m\u001b[0m\u001b[0m\n\u001b[1;32m-> 1196\u001b[1;33m         X, y = self._validate_data(\n\u001b[0m\u001b[0;32m   1197\u001b[0m             \u001b[0mX\u001b[0m\u001b[1;33m,\u001b[0m\u001b[1;33m\u001b[0m\u001b[1;33m\u001b[0m\u001b[0m\n\u001b[0;32m   1198\u001b[0m             \u001b[0my\u001b[0m\u001b[1;33m,\u001b[0m\u001b[1;33m\u001b[0m\u001b[1;33m\u001b[0m\u001b[0m\n",
      "\u001b[1;32m~\\Anaconda3\\lib\\site-packages\\sklearn\\base.py\u001b[0m in \u001b[0;36m_validate_data\u001b[1;34m(self, X, y, reset, validate_separately, **check_params)\u001b[0m\n\u001b[0;32m    582\u001b[0m                 \u001b[0my\u001b[0m \u001b[1;33m=\u001b[0m \u001b[0mcheck_array\u001b[0m\u001b[1;33m(\u001b[0m\u001b[0my\u001b[0m\u001b[1;33m,\u001b[0m \u001b[0minput_name\u001b[0m\u001b[1;33m=\u001b[0m\u001b[1;34m\"y\"\u001b[0m\u001b[1;33m,\u001b[0m \u001b[1;33m**\u001b[0m\u001b[0mcheck_y_params\u001b[0m\u001b[1;33m)\u001b[0m\u001b[1;33m\u001b[0m\u001b[1;33m\u001b[0m\u001b[0m\n\u001b[0;32m    583\u001b[0m             \u001b[1;32melse\u001b[0m\u001b[1;33m:\u001b[0m\u001b[1;33m\u001b[0m\u001b[1;33m\u001b[0m\u001b[0m\n\u001b[1;32m--> 584\u001b[1;33m                 \u001b[0mX\u001b[0m\u001b[1;33m,\u001b[0m \u001b[0my\u001b[0m \u001b[1;33m=\u001b[0m \u001b[0mcheck_X_y\u001b[0m\u001b[1;33m(\u001b[0m\u001b[0mX\u001b[0m\u001b[1;33m,\u001b[0m \u001b[0my\u001b[0m\u001b[1;33m,\u001b[0m \u001b[1;33m**\u001b[0m\u001b[0mcheck_params\u001b[0m\u001b[1;33m)\u001b[0m\u001b[1;33m\u001b[0m\u001b[1;33m\u001b[0m\u001b[0m\n\u001b[0m\u001b[0;32m    585\u001b[0m             \u001b[0mout\u001b[0m \u001b[1;33m=\u001b[0m \u001b[0mX\u001b[0m\u001b[1;33m,\u001b[0m \u001b[0my\u001b[0m\u001b[1;33m\u001b[0m\u001b[1;33m\u001b[0m\u001b[0m\n\u001b[0;32m    586\u001b[0m \u001b[1;33m\u001b[0m\u001b[0m\n",
      "\u001b[1;32m~\\Anaconda3\\lib\\site-packages\\sklearn\\utils\\validation.py\u001b[0m in \u001b[0;36mcheck_X_y\u001b[1;34m(X, y, accept_sparse, accept_large_sparse, dtype, order, copy, force_all_finite, ensure_2d, allow_nd, multi_output, ensure_min_samples, ensure_min_features, y_numeric, estimator)\u001b[0m\n\u001b[0;32m   1104\u001b[0m         )\n\u001b[0;32m   1105\u001b[0m \u001b[1;33m\u001b[0m\u001b[0m\n\u001b[1;32m-> 1106\u001b[1;33m     X = check_array(\n\u001b[0m\u001b[0;32m   1107\u001b[0m         \u001b[0mX\u001b[0m\u001b[1;33m,\u001b[0m\u001b[1;33m\u001b[0m\u001b[1;33m\u001b[0m\u001b[0m\n\u001b[0;32m   1108\u001b[0m         \u001b[0maccept_sparse\u001b[0m\u001b[1;33m=\u001b[0m\u001b[0maccept_sparse\u001b[0m\u001b[1;33m,\u001b[0m\u001b[1;33m\u001b[0m\u001b[1;33m\u001b[0m\u001b[0m\n",
      "\u001b[1;32m~\\Anaconda3\\lib\\site-packages\\sklearn\\utils\\validation.py\u001b[0m in \u001b[0;36mcheck_array\u001b[1;34m(array, accept_sparse, accept_large_sparse, dtype, order, copy, force_all_finite, ensure_2d, allow_nd, ensure_min_samples, ensure_min_features, estimator, input_name)\u001b[0m\n\u001b[0;32m    877\u001b[0m                     \u001b[0marray\u001b[0m \u001b[1;33m=\u001b[0m \u001b[0mxp\u001b[0m\u001b[1;33m.\u001b[0m\u001b[0mastype\u001b[0m\u001b[1;33m(\u001b[0m\u001b[0marray\u001b[0m\u001b[1;33m,\u001b[0m \u001b[0mdtype\u001b[0m\u001b[1;33m,\u001b[0m \u001b[0mcopy\u001b[0m\u001b[1;33m=\u001b[0m\u001b[1;32mFalse\u001b[0m\u001b[1;33m)\u001b[0m\u001b[1;33m\u001b[0m\u001b[1;33m\u001b[0m\u001b[0m\n\u001b[0;32m    878\u001b[0m                 \u001b[1;32melse\u001b[0m\u001b[1;33m:\u001b[0m\u001b[1;33m\u001b[0m\u001b[1;33m\u001b[0m\u001b[0m\n\u001b[1;32m--> 879\u001b[1;33m                     \u001b[0marray\u001b[0m \u001b[1;33m=\u001b[0m \u001b[0m_asarray_with_order\u001b[0m\u001b[1;33m(\u001b[0m\u001b[0marray\u001b[0m\u001b[1;33m,\u001b[0m \u001b[0morder\u001b[0m\u001b[1;33m=\u001b[0m\u001b[0morder\u001b[0m\u001b[1;33m,\u001b[0m \u001b[0mdtype\u001b[0m\u001b[1;33m=\u001b[0m\u001b[0mdtype\u001b[0m\u001b[1;33m,\u001b[0m \u001b[0mxp\u001b[0m\u001b[1;33m=\u001b[0m\u001b[0mxp\u001b[0m\u001b[1;33m)\u001b[0m\u001b[1;33m\u001b[0m\u001b[1;33m\u001b[0m\u001b[0m\n\u001b[0m\u001b[0;32m    880\u001b[0m             \u001b[1;32mexcept\u001b[0m \u001b[0mComplexWarning\u001b[0m \u001b[1;32mas\u001b[0m \u001b[0mcomplex_warning\u001b[0m\u001b[1;33m:\u001b[0m\u001b[1;33m\u001b[0m\u001b[1;33m\u001b[0m\u001b[0m\n\u001b[0;32m    881\u001b[0m                 raise ValueError(\n",
      "\u001b[1;32m~\\Anaconda3\\lib\\site-packages\\sklearn\\utils\\_array_api.py\u001b[0m in \u001b[0;36m_asarray_with_order\u001b[1;34m(array, dtype, order, copy, xp)\u001b[0m\n\u001b[0;32m    183\u001b[0m     \u001b[1;32mif\u001b[0m \u001b[0mxp\u001b[0m\u001b[1;33m.\u001b[0m\u001b[0m__name__\u001b[0m \u001b[1;32min\u001b[0m \u001b[1;33m{\u001b[0m\u001b[1;34m\"numpy\"\u001b[0m\u001b[1;33m,\u001b[0m \u001b[1;34m\"numpy.array_api\"\u001b[0m\u001b[1;33m}\u001b[0m\u001b[1;33m:\u001b[0m\u001b[1;33m\u001b[0m\u001b[1;33m\u001b[0m\u001b[0m\n\u001b[0;32m    184\u001b[0m         \u001b[1;31m# Use NumPy API to support order\u001b[0m\u001b[1;33m\u001b[0m\u001b[1;33m\u001b[0m\u001b[0m\n\u001b[1;32m--> 185\u001b[1;33m         \u001b[0marray\u001b[0m \u001b[1;33m=\u001b[0m \u001b[0mnumpy\u001b[0m\u001b[1;33m.\u001b[0m\u001b[0masarray\u001b[0m\u001b[1;33m(\u001b[0m\u001b[0marray\u001b[0m\u001b[1;33m,\u001b[0m \u001b[0morder\u001b[0m\u001b[1;33m=\u001b[0m\u001b[0morder\u001b[0m\u001b[1;33m,\u001b[0m \u001b[0mdtype\u001b[0m\u001b[1;33m=\u001b[0m\u001b[0mdtype\u001b[0m\u001b[1;33m)\u001b[0m\u001b[1;33m\u001b[0m\u001b[1;33m\u001b[0m\u001b[0m\n\u001b[0m\u001b[0;32m    186\u001b[0m         \u001b[1;32mreturn\u001b[0m \u001b[0mxp\u001b[0m\u001b[1;33m.\u001b[0m\u001b[0masarray\u001b[0m\u001b[1;33m(\u001b[0m\u001b[0marray\u001b[0m\u001b[1;33m,\u001b[0m \u001b[0mcopy\u001b[0m\u001b[1;33m=\u001b[0m\u001b[0mcopy\u001b[0m\u001b[1;33m)\u001b[0m\u001b[1;33m\u001b[0m\u001b[1;33m\u001b[0m\u001b[0m\n\u001b[0;32m    187\u001b[0m     \u001b[1;32melse\u001b[0m\u001b[1;33m:\u001b[0m\u001b[1;33m\u001b[0m\u001b[1;33m\u001b[0m\u001b[0m\n",
      "\u001b[1;32m~\\Anaconda3\\lib\\site-packages\\numpy\\core\\_asarray.py\u001b[0m in \u001b[0;36masarray\u001b[1;34m(a, dtype, order, like)\u001b[0m\n\u001b[0;32m    100\u001b[0m         \u001b[1;32mreturn\u001b[0m \u001b[0m_asarray_with_like\u001b[0m\u001b[1;33m(\u001b[0m\u001b[0ma\u001b[0m\u001b[1;33m,\u001b[0m \u001b[0mdtype\u001b[0m\u001b[1;33m=\u001b[0m\u001b[0mdtype\u001b[0m\u001b[1;33m,\u001b[0m \u001b[0morder\u001b[0m\u001b[1;33m=\u001b[0m\u001b[0morder\u001b[0m\u001b[1;33m,\u001b[0m \u001b[0mlike\u001b[0m\u001b[1;33m=\u001b[0m\u001b[0mlike\u001b[0m\u001b[1;33m)\u001b[0m\u001b[1;33m\u001b[0m\u001b[1;33m\u001b[0m\u001b[0m\n\u001b[0;32m    101\u001b[0m \u001b[1;33m\u001b[0m\u001b[0m\n\u001b[1;32m--> 102\u001b[1;33m     \u001b[1;32mreturn\u001b[0m \u001b[0marray\u001b[0m\u001b[1;33m(\u001b[0m\u001b[0ma\u001b[0m\u001b[1;33m,\u001b[0m \u001b[0mdtype\u001b[0m\u001b[1;33m,\u001b[0m \u001b[0mcopy\u001b[0m\u001b[1;33m=\u001b[0m\u001b[1;32mFalse\u001b[0m\u001b[1;33m,\u001b[0m \u001b[0morder\u001b[0m\u001b[1;33m=\u001b[0m\u001b[0morder\u001b[0m\u001b[1;33m)\u001b[0m\u001b[1;33m\u001b[0m\u001b[1;33m\u001b[0m\u001b[0m\n\u001b[0m\u001b[0;32m    103\u001b[0m \u001b[1;33m\u001b[0m\u001b[0m\n\u001b[0;32m    104\u001b[0m \u001b[1;33m\u001b[0m\u001b[0m\n",
      "\u001b[1;32m~\\Anaconda3\\lib\\site-packages\\pandas\\core\\generic.py\u001b[0m in \u001b[0;36m__array__\u001b[1;34m(self, dtype)\u001b[0m\n\u001b[0;32m   1991\u001b[0m \u001b[1;33m\u001b[0m\u001b[0m\n\u001b[0;32m   1992\u001b[0m     \u001b[1;32mdef\u001b[0m \u001b[0m__array__\u001b[0m\u001b[1;33m(\u001b[0m\u001b[0mself\u001b[0m\u001b[1;33m,\u001b[0m \u001b[0mdtype\u001b[0m\u001b[1;33m:\u001b[0m \u001b[0mNpDtype\u001b[0m \u001b[1;33m|\u001b[0m \u001b[1;32mNone\u001b[0m \u001b[1;33m=\u001b[0m \u001b[1;32mNone\u001b[0m\u001b[1;33m)\u001b[0m \u001b[1;33m->\u001b[0m \u001b[0mnp\u001b[0m\u001b[1;33m.\u001b[0m\u001b[0mndarray\u001b[0m\u001b[1;33m:\u001b[0m\u001b[1;33m\u001b[0m\u001b[1;33m\u001b[0m\u001b[0m\n\u001b[1;32m-> 1993\u001b[1;33m         \u001b[1;32mreturn\u001b[0m \u001b[0mnp\u001b[0m\u001b[1;33m.\u001b[0m\u001b[0masarray\u001b[0m\u001b[1;33m(\u001b[0m\u001b[0mself\u001b[0m\u001b[1;33m.\u001b[0m\u001b[0m_values\u001b[0m\u001b[1;33m,\u001b[0m \u001b[0mdtype\u001b[0m\u001b[1;33m=\u001b[0m\u001b[0mdtype\u001b[0m\u001b[1;33m)\u001b[0m\u001b[1;33m\u001b[0m\u001b[1;33m\u001b[0m\u001b[0m\n\u001b[0m\u001b[0;32m   1994\u001b[0m \u001b[1;33m\u001b[0m\u001b[0m\n\u001b[0;32m   1995\u001b[0m     def __array_wrap__(\n",
      "\u001b[1;32m~\\Anaconda3\\lib\\site-packages\\numpy\\core\\_asarray.py\u001b[0m in \u001b[0;36masarray\u001b[1;34m(a, dtype, order, like)\u001b[0m\n\u001b[0;32m    100\u001b[0m         \u001b[1;32mreturn\u001b[0m \u001b[0m_asarray_with_like\u001b[0m\u001b[1;33m(\u001b[0m\u001b[0ma\u001b[0m\u001b[1;33m,\u001b[0m \u001b[0mdtype\u001b[0m\u001b[1;33m=\u001b[0m\u001b[0mdtype\u001b[0m\u001b[1;33m,\u001b[0m \u001b[0morder\u001b[0m\u001b[1;33m=\u001b[0m\u001b[0morder\u001b[0m\u001b[1;33m,\u001b[0m \u001b[0mlike\u001b[0m\u001b[1;33m=\u001b[0m\u001b[0mlike\u001b[0m\u001b[1;33m)\u001b[0m\u001b[1;33m\u001b[0m\u001b[1;33m\u001b[0m\u001b[0m\n\u001b[0;32m    101\u001b[0m \u001b[1;33m\u001b[0m\u001b[0m\n\u001b[1;32m--> 102\u001b[1;33m     \u001b[1;32mreturn\u001b[0m \u001b[0marray\u001b[0m\u001b[1;33m(\u001b[0m\u001b[0ma\u001b[0m\u001b[1;33m,\u001b[0m \u001b[0mdtype\u001b[0m\u001b[1;33m,\u001b[0m \u001b[0mcopy\u001b[0m\u001b[1;33m=\u001b[0m\u001b[1;32mFalse\u001b[0m\u001b[1;33m,\u001b[0m \u001b[0morder\u001b[0m\u001b[1;33m=\u001b[0m\u001b[0morder\u001b[0m\u001b[1;33m)\u001b[0m\u001b[1;33m\u001b[0m\u001b[1;33m\u001b[0m\u001b[0m\n\u001b[0m\u001b[0;32m    103\u001b[0m \u001b[1;33m\u001b[0m\u001b[0m\n\u001b[0;32m    104\u001b[0m \u001b[1;33m\u001b[0m\u001b[0m\n",
      "\u001b[1;31mValueError\u001b[0m: could not convert string to float: 'More than 5'"
     ]
    }
   ],
   "source": [
    "# Train the model\n",
    "model.fit(X_train, y_train)"
   ]
  },
  {
   "cell_type": "code",
   "execution_count": null,
   "id": "903cb9f5",
   "metadata": {},
   "outputs": [],
   "source": []
  }
 ],
 "metadata": {
  "kernelspec": {
   "display_name": "Python 3 (ipykernel)",
   "language": "python",
   "name": "python3"
  },
  "language_info": {
   "codemirror_mode": {
    "name": "ipython",
    "version": 3
   },
   "file_extension": ".py",
   "mimetype": "text/x-python",
   "name": "python",
   "nbconvert_exporter": "python",
   "pygments_lexer": "ipython3",
   "version": "3.9.7"
  }
 },
 "nbformat": 4,
 "nbformat_minor": 5
}
